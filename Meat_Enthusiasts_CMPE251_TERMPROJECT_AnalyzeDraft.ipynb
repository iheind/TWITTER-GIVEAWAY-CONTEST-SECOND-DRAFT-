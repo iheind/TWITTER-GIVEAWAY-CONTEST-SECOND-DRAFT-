{
 "cells": [
  {
   "cell_type": "markdown",
   "metadata": {},
   "source": [
    "### MEAT ENTHUSIASTS\n",
    "\n",
    "#### Twitter Giveaway Contest\n",
    "\n",
    "#### Group Members\n",
    "##### Efe Hüseyin Yılmaz   (Mechatronics Engineering)\n",
    "##### Onur Alp Kayıkçı     (Mechatronics Engineering)\n",
    "##### Furkan Kırmızıgül    (Mechatronics Engineering)"
   ]
  },
  {
   "cell_type": "code",
   "execution_count": 1,
   "metadata": {},
   "outputs": [],
   "source": [
    "\n",
    "import pandas as pd\n",
    "import tweepy\n",
    "\n",
    "consumer_key=\"*************************************************"\n",
    "consumer_secret=\"**********************************************"\n",
    "acc_token=\"****************************************************"\n",
    "acc_secret=\"***************************************************"\n",
    "\n",
    "auth = tweepy.OAuthHandler(consumer_key, consumer_secret)\n",
    "auth.set_access_token(acc_token, acc_secret)\n",
    "api = tweepy.API(auth)"
   ]
  },
  {
   "cell_type": "markdown",
   "metadata": {},
   "source": [
    "# START"
   ]
  },
  {
   "cell_type": "markdown",
   "metadata": {},
   "source": [
    "### Getting Followers"
   ]
  },
  {
   "cell_type": "code",
   "execution_count": 2,
   "metadata": {},
   "outputs": [],
   "source": [
    "username=\"sprezzaturaf\""
   ]
  },
  {
   "cell_type": "code",
   "execution_count": 3,
   "metadata": {},
   "outputs": [],
   "source": [
    "me = api.get_user(username)\n",
    "my_name =me.name\n",
    "my_followers_count = me.followers_count\n",
    "my_friends_count =me.friends_count"
   ]
  },
  {
   "cell_type": "code",
   "execution_count": 4,
   "metadata": {},
   "outputs": [
    {
     "data": {
      "text/html": [
       "<div>\n",
       "<style scoped>\n",
       "    .dataframe tbody tr th:only-of-type {\n",
       "        vertical-align: middle;\n",
       "    }\n",
       "\n",
       "    .dataframe tbody tr th {\n",
       "        vertical-align: top;\n",
       "    }\n",
       "\n",
       "    .dataframe thead th {\n",
       "        text-align: right;\n",
       "    }\n",
       "</style>\n",
       "<table border=\"1\" class=\"dataframe\">\n",
       "  <thead>\n",
       "    <tr style=\"text-align: right;\">\n",
       "      <th></th>\n",
       "      <th>NAME</th>\n",
       "      <th>FOLLOWERS_COUNT</th>\n",
       "      <th>FRIENDS_COUNT</th>\n",
       "    </tr>\n",
       "  </thead>\n",
       "  <tbody>\n",
       "    <tr>\n",
       "      <th>0</th>\n",
       "      <td>FK</td>\n",
       "      <td>39</td>\n",
       "      <td>129</td>\n",
       "    </tr>\n",
       "  </tbody>\n",
       "</table>\n",
       "</div>"
      ],
      "text/plain": [
       "  NAME FOLLOWERS_COUNT FRIENDS_COUNT\n",
       "0   FK              39           129"
      ]
     },
     "execution_count": 4,
     "metadata": {},
     "output_type": "execute_result"
    }
   ],
   "source": [
    "mecl=( my_name,my_followers_count,my_friends_count)\n",
    "merw =[\"NAME\",\"FOLLOWERS_COUNT\",\"FRIENDS_COUNT\"]\n",
    "me_frame = pd.DataFrame(mecl,merw)\n",
    "me_frame =pd.DataFrame.transpose(me_frame)\n",
    "me_frame"
   ]
  },
  {
   "cell_type": "code",
   "execution_count": 5,
   "metadata": {},
   "outputs": [],
   "source": [
    "\n",
    "my_follower_full=[]\n",
    "for followers in tweepy.Cursor(api.followers,(username)).items(40):\n",
    "     my_follower_full.append(followers)"
   ]
  },
  {
   "cell_type": "code",
   "execution_count": 6,
   "metadata": {},
   "outputs": [],
   "source": [
    "my_follower_ids=[]\n",
    "my_follower_names=[]\n",
    "my_follower_followers=[]\n",
    "my_follower_friends=[]\n",
    "\n",
    "for follower in my_follower_full:\n",
    "    my_follower_ids.append(follower.id)\n",
    "    my_follower_names.append(follower.name)\n",
    "    my_follower_followers.append(follower.followers_count)\n",
    "    my_follower_friends.append(follower.friends_count)\n",
    "    "
   ]
  },
  {
   "cell_type": "code",
   "execution_count": 7,
   "metadata": {},
   "outputs": [
    {
     "data": {
      "text/html": [
       "<div>\n",
       "<style scoped>\n",
       "    .dataframe tbody tr th:only-of-type {\n",
       "        vertical-align: middle;\n",
       "    }\n",
       "\n",
       "    .dataframe tbody tr th {\n",
       "        vertical-align: top;\n",
       "    }\n",
       "\n",
       "    .dataframe thead th {\n",
       "        text-align: right;\n",
       "    }\n",
       "</style>\n",
       "<table border=\"1\" class=\"dataframe\">\n",
       "  <thead>\n",
       "    <tr style=\"text-align: right;\">\n",
       "      <th></th>\n",
       "      <th>Name</th>\n",
       "      <th>Follower_count</th>\n",
       "      <th>Friends_count</th>\n",
       "    </tr>\n",
       "    <tr>\n",
       "      <th>ID</th>\n",
       "      <th></th>\n",
       "      <th></th>\n",
       "      <th></th>\n",
       "    </tr>\n",
       "  </thead>\n",
       "  <tbody>\n",
       "    <tr>\n",
       "      <th>1328275529334710272</th>\n",
       "      <td>Efe</td>\n",
       "      <td>1</td>\n",
       "      <td>10</td>\n",
       "    </tr>\n",
       "    <tr>\n",
       "      <th>806927370041049088</th>\n",
       "      <td>Lara</td>\n",
       "      <td>230</td>\n",
       "      <td>180</td>\n",
       "    </tr>\n",
       "    <tr>\n",
       "      <th>2411001317</th>\n",
       "      <td>Bartu Akit</td>\n",
       "      <td>4</td>\n",
       "      <td>24</td>\n",
       "    </tr>\n",
       "    <tr>\n",
       "      <th>439501816</th>\n",
       "      <td>Onur Kayikci</td>\n",
       "      <td>96</td>\n",
       "      <td>70</td>\n",
       "    </tr>\n",
       "    <tr>\n",
       "      <th>1192730257163464705</th>\n",
       "      <td>Zeynep Kırmızıgül</td>\n",
       "      <td>4</td>\n",
       "      <td>22</td>\n",
       "    </tr>\n",
       "    <tr>\n",
       "      <th>1191268551912574976</th>\n",
       "      <td>_duygp</td>\n",
       "      <td>14</td>\n",
       "      <td>29</td>\n",
       "    </tr>\n",
       "    <tr>\n",
       "      <th>1158886557111279617</th>\n",
       "      <td>c9rvis</td>\n",
       "      <td>3</td>\n",
       "      <td>39</td>\n",
       "    </tr>\n",
       "    <tr>\n",
       "      <th>245103540</th>\n",
       "      <td>Miray</td>\n",
       "      <td>156</td>\n",
       "      <td>124</td>\n",
       "    </tr>\n",
       "    <tr>\n",
       "      <th>1125542895598153728</th>\n",
       "      <td>Selin Atalay</td>\n",
       "      <td>86</td>\n",
       "      <td>168</td>\n",
       "    </tr>\n",
       "    <tr>\n",
       "      <th>428342290</th>\n",
       "      <td>Akin Altikulac</td>\n",
       "      <td>160</td>\n",
       "      <td>499</td>\n",
       "    </tr>\n",
       "    <tr>\n",
       "      <th>1096134388763496448</th>\n",
       "      <td>frnacis-claudine</td>\n",
       "      <td>9</td>\n",
       "      <td>366</td>\n",
       "    </tr>\n",
       "    <tr>\n",
       "      <th>1096544205147684865</th>\n",
       "      <td>WindowTears</td>\n",
       "      <td>11</td>\n",
       "      <td>101</td>\n",
       "    </tr>\n",
       "    <tr>\n",
       "      <th>175336876</th>\n",
       "      <td>:(</td>\n",
       "      <td>305</td>\n",
       "      <td>172</td>\n",
       "    </tr>\n",
       "    <tr>\n",
       "      <th>981627995474530304</th>\n",
       "      <td>cerenuysal</td>\n",
       "      <td>31</td>\n",
       "      <td>57</td>\n",
       "    </tr>\n",
       "    <tr>\n",
       "      <th>4461181253</th>\n",
       "      <td>inspirational wear 🔥</td>\n",
       "      <td>2831</td>\n",
       "      <td>4598</td>\n",
       "    </tr>\n",
       "    <tr>\n",
       "      <th>3870429213</th>\n",
       "      <td>M!</td>\n",
       "      <td>614</td>\n",
       "      <td>612</td>\n",
       "    </tr>\n",
       "    <tr>\n",
       "      <th>122733826</th>\n",
       "      <td>Ezgi</td>\n",
       "      <td>144</td>\n",
       "      <td>70</td>\n",
       "    </tr>\n",
       "    <tr>\n",
       "      <th>2565964409</th>\n",
       "      <td>Nicola Selim Tansel</td>\n",
       "      <td>102</td>\n",
       "      <td>151</td>\n",
       "    </tr>\n",
       "    <tr>\n",
       "      <th>910154516439486465</th>\n",
       "      <td>Ebru Yıldızhan</td>\n",
       "      <td>115</td>\n",
       "      <td>138</td>\n",
       "    </tr>\n",
       "    <tr>\n",
       "      <th>188292737</th>\n",
       "      <td>zeynep elif</td>\n",
       "      <td>173</td>\n",
       "      <td>135</td>\n",
       "    </tr>\n",
       "    <tr>\n",
       "      <th>176503485</th>\n",
       "      <td>Begüm</td>\n",
       "      <td>88</td>\n",
       "      <td>75</td>\n",
       "    </tr>\n",
       "    <tr>\n",
       "      <th>362411136</th>\n",
       "      <td>ssh</td>\n",
       "      <td>124</td>\n",
       "      <td>91</td>\n",
       "    </tr>\n",
       "    <tr>\n",
       "      <th>187954616</th>\n",
       "      <td>Sera Sezgin</td>\n",
       "      <td>349</td>\n",
       "      <td>229</td>\n",
       "    </tr>\n",
       "    <tr>\n",
       "      <th>3938157099</th>\n",
       "      <td>Deniz Demir</td>\n",
       "      <td>64</td>\n",
       "      <td>112</td>\n",
       "    </tr>\n",
       "    <tr>\n",
       "      <th>337775404</th>\n",
       "      <td>Merve Ayçık</td>\n",
       "      <td>124</td>\n",
       "      <td>129</td>\n",
       "    </tr>\n",
       "    <tr>\n",
       "      <th>984971522</th>\n",
       "      <td>Samet Bozkale</td>\n",
       "      <td>98</td>\n",
       "      <td>125</td>\n",
       "    </tr>\n",
       "    <tr>\n",
       "      <th>783120607</th>\n",
       "      <td>Ozan Turgut Başaran</td>\n",
       "      <td>201</td>\n",
       "      <td>321</td>\n",
       "    </tr>\n",
       "    <tr>\n",
       "      <th>356038575</th>\n",
       "      <td>MM</td>\n",
       "      <td>504</td>\n",
       "      <td>426</td>\n",
       "    </tr>\n",
       "    <tr>\n",
       "      <th>722426202</th>\n",
       "      <td>Pembe Ülgen</td>\n",
       "      <td>47</td>\n",
       "      <td>447</td>\n",
       "    </tr>\n",
       "    <tr>\n",
       "      <th>542477461</th>\n",
       "      <td>silansahin</td>\n",
       "      <td>191</td>\n",
       "      <td>116</td>\n",
       "    </tr>\n",
       "    <tr>\n",
       "      <th>2174745950</th>\n",
       "      <td>Berna Şenay</td>\n",
       "      <td>161</td>\n",
       "      <td>259</td>\n",
       "    </tr>\n",
       "    <tr>\n",
       "      <th>175101429</th>\n",
       "      <td>Selin</td>\n",
       "      <td>200</td>\n",
       "      <td>267</td>\n",
       "    </tr>\n",
       "    <tr>\n",
       "      <th>754814858860822528</th>\n",
       "      <td>Samet Karataş</td>\n",
       "      <td>69</td>\n",
       "      <td>159</td>\n",
       "    </tr>\n",
       "    <tr>\n",
       "      <th>728575122869788673</th>\n",
       "      <td>Tuğçe Sinop</td>\n",
       "      <td>47</td>\n",
       "      <td>197</td>\n",
       "    </tr>\n",
       "    <tr>\n",
       "      <th>2507171422</th>\n",
       "      <td>Gözde Akan</td>\n",
       "      <td>177</td>\n",
       "      <td>78</td>\n",
       "    </tr>\n",
       "    <tr>\n",
       "      <th>410208816</th>\n",
       "      <td>ozito</td>\n",
       "      <td>281</td>\n",
       "      <td>437</td>\n",
       "    </tr>\n",
       "    <tr>\n",
       "      <th>514554698</th>\n",
       "      <td>Ezgi Yurtduru</td>\n",
       "      <td>131</td>\n",
       "      <td>199</td>\n",
       "    </tr>\n",
       "    <tr>\n",
       "      <th>621150429</th>\n",
       "      <td>İpek Özel</td>\n",
       "      <td>136</td>\n",
       "      <td>137</td>\n",
       "    </tr>\n",
       "    <tr>\n",
       "      <th>112155367</th>\n",
       "      <td>m</td>\n",
       "      <td>382</td>\n",
       "      <td>186</td>\n",
       "    </tr>\n",
       "  </tbody>\n",
       "</table>\n",
       "</div>"
      ],
      "text/plain": [
       "                                     Name Follower_count Friends_count\n",
       "ID                                                                    \n",
       "1328275529334710272                   Efe              1            10\n",
       "806927370041049088                   Lara            230           180\n",
       "2411001317                     Bartu Akit              4            24\n",
       "439501816                    Onur Kayikci             96            70\n",
       "1192730257163464705     Zeynep Kırmızıgül              4            22\n",
       "1191268551912574976                _duygp             14            29\n",
       "1158886557111279617                c9rvis              3            39\n",
       "245103540                           Miray            156           124\n",
       "1125542895598153728          Selin Atalay             86           168\n",
       "428342290                  Akin Altikulac            160           499\n",
       "1096134388763496448      frnacis-claudine              9           366\n",
       "1096544205147684865           WindowTears             11           101\n",
       "175336876                              :(            305           172\n",
       "981627995474530304             cerenuysal             31            57\n",
       "4461181253           inspirational wear 🔥           2831          4598\n",
       "3870429213                             M!            614           612\n",
       "122733826                            Ezgi            144            70\n",
       "2565964409            Nicola Selim Tansel            102           151\n",
       "910154516439486465         Ebru Yıldızhan            115           138\n",
       "188292737                     zeynep elif            173           135\n",
       "176503485                           Begüm             88            75\n",
       "362411136                             ssh            124            91\n",
       "187954616                     Sera Sezgin            349           229\n",
       "3938157099                    Deniz Demir             64           112\n",
       "337775404                     Merve Ayçık            124           129\n",
       "984971522                   Samet Bozkale             98           125\n",
       "783120607             Ozan Turgut Başaran            201           321\n",
       "356038575                              MM            504           426\n",
       "722426202                     Pembe Ülgen             47           447\n",
       "542477461                      silansahin            191           116\n",
       "2174745950                    Berna Şenay            161           259\n",
       "175101429                           Selin            200           267\n",
       "754814858860822528          Samet Karataş             69           159\n",
       "728575122869788673            Tuğçe Sinop             47           197\n",
       "2507171422                     Gözde Akan            177            78\n",
       "410208816                           ozito            281           437\n",
       "514554698                   Ezgi Yurtduru            131           199\n",
       "621150429                       İpek Özel            136           137\n",
       "112155367                               m            382           186"
      ]
     },
     "execution_count": 7,
     "metadata": {},
     "output_type": "execute_result"
    }
   ],
   "source": [
    "rws = [\"ID\",\"Name\",\"Follower_count\",\"Friends_count\"]\n",
    "clms= [my_follower_ids,my_follower_names,my_follower_followers,my_follower_friends]\n",
    "\n",
    "followers_data = pd.DataFrame(clms,rws)\n",
    "followers_data =pd.DataFrame.transpose(followers_data)\n",
    "followers_data =followers_data.set_index(\"ID\")\n",
    "followers_data"
   ]
  },
  {
   "cell_type": "code",
   "execution_count": 8,
   "metadata": {},
   "outputs": [
    {
     "data": {
      "text/plain": [
       "8463"
      ]
     },
     "execution_count": 8,
     "metadata": {},
     "output_type": "execute_result"
    }
   ],
   "source": [
    "sum(my_follower_followers)"
   ]
  },
  {
   "cell_type": "markdown",
   "metadata": {},
   "source": [
    "api.followers_ids(username)"
   ]
  },
  {
   "cell_type": "markdown",
   "metadata": {},
   "source": [
    "### We can create our status update for giveaway using jupyter (optional)"
   ]
  },
  {
   "cell_type": "markdown",
   "metadata": {},
   "source": [
    "Status_Update = input(\"Please enter the tweet for giveaway contest \")"
   ]
  },
  {
   "cell_type": "markdown",
   "metadata": {},
   "source": [
    "new_status = api.update_status (Status_Update)"
   ]
  },
  {
   "cell_type": "markdown",
   "metadata": {},
   "source": [
    "St_id= new_status.id"
   ]
  },
  {
   "cell_type": "markdown",
   "metadata": {},
   "source": [
    "## Getting giveaway tweet data"
   ]
  },
  {
   "cell_type": "code",
   "execution_count": 9,
   "metadata": {},
   "outputs": [],
   "source": [
    "St_id2 =1338582220278276104"
   ]
  },
  {
   "cell_type": "code",
   "execution_count": 10,
   "metadata": {},
   "outputs": [],
   "source": [
    "status = api.get_status (St_id2)"
   ]
  },
  {
   "cell_type": "code",
   "execution_count": 11,
   "metadata": {},
   "outputs": [
    {
     "data": {
      "text/html": [
       "<div>\n",
       "<style scoped>\n",
       "    .dataframe tbody tr th:only-of-type {\n",
       "        vertical-align: middle;\n",
       "    }\n",
       "\n",
       "    .dataframe tbody tr th {\n",
       "        vertical-align: top;\n",
       "    }\n",
       "\n",
       "    .dataframe thead th {\n",
       "        text-align: right;\n",
       "    }\n",
       "</style>\n",
       "<table border=\"1\" class=\"dataframe\">\n",
       "  <thead>\n",
       "    <tr style=\"text-align: right;\">\n",
       "      <th></th>\n",
       "      <th>TEXT</th>\n",
       "      <th>USERNAME</th>\n",
       "      <th>RT</th>\n",
       "      <th>FV</th>\n",
       "      <th>ID</th>\n",
       "    </tr>\n",
       "  </thead>\n",
       "  <tbody>\n",
       "    <tr>\n",
       "      <th>0</th>\n",
       "      <td>Short story https://t.co/G2Ycafd44W</td>\n",
       "      <td>FK</td>\n",
       "      <td>3</td>\n",
       "      <td>18</td>\n",
       "      <td>1338582220278276104</td>\n",
       "    </tr>\n",
       "  </tbody>\n",
       "</table>\n",
       "</div>"
      ],
      "text/plain": [
       "                                  TEXT USERNAME RT  FV                   ID\n",
       "0  Short story https://t.co/G2Ycafd44W       FK  3  18  1338582220278276104"
      ]
     },
     "execution_count": 11,
     "metadata": {},
     "output_type": "execute_result"
    }
   ],
   "source": [
    "rw= [\"TEXT\", \"USERNAME\", \"RT\", \"FV\",\"ID\"]\n",
    "cl = [status.text,status.user.name, status.retweet_count, status.favorite_count,status.id,] \n",
    "df = pd.DataFrame(cl,rw)\n",
    "df = pd.DataFrame.transpose(df)\n",
    "df"
   ]
  },
  {
   "cell_type": "markdown",
   "metadata": {},
   "source": [
    "### API Usage for retweeters\n",
    "#### Even if we use Cursor for api.retweeters the limit does not allow us to reach more than 100 retweeter id"
   ]
  },
  {
   "cell_type": "markdown",
   "metadata": {},
   "source": [
    "##### giveaway_retweeters =[]\n",
    "##### giveaway_retweeters2= []\n",
    "##### for user_id in (tweepy.Cursor(api.retweeters,(St_id2)).items(1000)):\n",
    "   ##### giveaway_retweeters.append (user_id)\n",
    "    \n",
    "   ##### giveaway_retweeters"
   ]
  },
  {
   "cell_type": "markdown",
   "metadata": {},
   "source": [
    "##### retweeter_list=api.retweeters(St_id2)\n",
    "##### retweeter_list"
   ]
  },
  {
   "cell_type": "markdown",
   "metadata": {},
   "source": [
    "## So we search the tweet as text in twitter and get more retweeters"
   ]
  },
  {
   "cell_type": "code",
   "execution_count": 12,
   "metadata": {},
   "outputs": [],
   "source": [
    "text_tweet= status.text\n",
    "text_tweet =\"RT \" + text_tweet"
   ]
  },
  {
   "cell_type": "code",
   "execution_count": 13,
   "metadata": {},
   "outputs": [],
   "source": [
    "status_doc=[]\n",
    "for status in tweepy.Cursor(api.search, q=text_tweet, lang='en',per_page=10).items(10):\n",
    "      status_doc.append(status)"
   ]
  },
  {
   "cell_type": "code",
   "execution_count": 14,
   "metadata": {},
   "outputs": [
    {
     "data": {
      "text/html": [
       "<div>\n",
       "<style scoped>\n",
       "    .dataframe tbody tr th:only-of-type {\n",
       "        vertical-align: middle;\n",
       "    }\n",
       "\n",
       "    .dataframe tbody tr th {\n",
       "        vertical-align: top;\n",
       "    }\n",
       "\n",
       "    .dataframe thead th {\n",
       "        text-align: right;\n",
       "    }\n",
       "</style>\n",
       "<table border=\"1\" class=\"dataframe\">\n",
       "  <thead>\n",
       "    <tr style=\"text-align: right;\">\n",
       "      <th></th>\n",
       "      <th>TEXT</th>\n",
       "      <th>USERNAME</th>\n",
       "      <th>ID</th>\n",
       "    </tr>\n",
       "  </thead>\n",
       "  <tbody>\n",
       "    <tr>\n",
       "      <th>0</th>\n",
       "      <td>RT @sprezzaturaf: Short story https://t.co/G2Y...</td>\n",
       "      <td>Efe</td>\n",
       "      <td>1328275529334710272</td>\n",
       "    </tr>\n",
       "    <tr>\n",
       "      <th>1</th>\n",
       "      <td>RT @sprezzaturaf: Short story https://t.co/G2Y...</td>\n",
       "      <td>Onur Kayikci</td>\n",
       "      <td>439501816</td>\n",
       "    </tr>\n",
       "    <tr>\n",
       "      <th>2</th>\n",
       "      <td>RT @sprezzaturaf: Short story https://t.co/G2Y...</td>\n",
       "      <td>Alevörtenhuni</td>\n",
       "      <td>1196068889639165958</td>\n",
       "    </tr>\n",
       "  </tbody>\n",
       "</table>\n",
       "</div>"
      ],
      "text/plain": [
       "                                                TEXT       USERNAME  \\\n",
       "0  RT @sprezzaturaf: Short story https://t.co/G2Y...            Efe   \n",
       "1  RT @sprezzaturaf: Short story https://t.co/G2Y...   Onur Kayikci   \n",
       "2  RT @sprezzaturaf: Short story https://t.co/G2Y...  Alevörtenhuni   \n",
       "\n",
       "                    ID  \n",
       "0  1328275529334710272  \n",
       "1            439501816  \n",
       "2  1196068889639165958  "
      ]
     },
     "execution_count": 14,
     "metadata": {},
     "output_type": "execute_result"
    }
   ],
   "source": [
    "status_text=[]\n",
    "status_retweeters_username=[]\n",
    "status_retweeters_id=[]\n",
    "\n",
    "\n",
    "for status in status_doc:\n",
    "    status_text.append(status.text)\n",
    "    status_retweeters_username.append(status.user.name)\n",
    "    status_retweeters_id.append(status.user.id)\n",
    "   \n",
    "    \n",
    "status_rows = [status_text,status_retweeters_username,status_retweeters_id] \n",
    "status_columns =[\"TEXT\",\"USERNAME\",\"ID\"]\n",
    "retweeters_table= pd.DataFrame(status_rows,status_columns)\n",
    "retweeters_table= pd.DataFrame.transpose(retweeters_table)\n",
    "retweeters_table"
   ]
  },
  {
   "cell_type": "code",
   "execution_count": 15,
   "metadata": {},
   "outputs": [
    {
     "data": {
      "text/plain": [
       "[1328275529334710272, 439501816, 1196068889639165958]"
      ]
     },
     "execution_count": 15,
     "metadata": {},
     "output_type": "execute_result"
    }
   ],
   "source": [
    "status_retweeters_id"
   ]
  },
  {
   "cell_type": "markdown",
   "metadata": {},
   "source": [
    "## Checking for retweeters in follower list"
   ]
  },
  {
   "cell_type": "code",
   "execution_count": 16,
   "metadata": {},
   "outputs": [],
   "source": [
    "retweeters_following = set(status_retweeters_id).intersection(my_follower_ids)\n",
    "retweeters_following = list(retweeters_following)"
   ]
  },
  {
   "cell_type": "code",
   "execution_count": 17,
   "metadata": {},
   "outputs": [
    {
     "data": {
      "text/plain": [
       "[1328275529334710272, 439501816]"
      ]
     },
     "execution_count": 17,
     "metadata": {},
     "output_type": "execute_result"
    }
   ],
   "source": [
    "retweeters_following"
   ]
  },
  {
   "cell_type": "code",
   "execution_count": 18,
   "metadata": {},
   "outputs": [],
   "source": [
    "retweeters_not_following = set(status_retweeters_id).difference(my_follower_ids)\n",
    "retweeters_not_following = list(retweeters_not_following)"
   ]
  },
  {
   "cell_type": "code",
   "execution_count": 19,
   "metadata": {},
   "outputs": [
    {
     "data": {
      "text/plain": [
       "[1196068889639165958]"
      ]
     },
     "execution_count": 19,
     "metadata": {},
     "output_type": "execute_result"
    }
   ],
   "source": [
    "retweeters_not_following"
   ]
  },
  {
   "cell_type": "markdown",
   "metadata": {},
   "source": [
    "### Choosing a random user in eliminated retweeter list"
   ]
  },
  {
   "cell_type": "code",
   "execution_count": 20,
   "metadata": {},
   "outputs": [
    {
     "data": {
      "text/plain": [
       "1328275529334710272"
      ]
     },
     "execution_count": 20,
     "metadata": {},
     "output_type": "execute_result"
    }
   ],
   "source": [
    "import random\n",
    "Chosen_ID = random.choice(retweeters_following)\n",
    "Chosen_ID"
   ]
  },
  {
   "cell_type": "markdown",
   "metadata": {},
   "source": [
    "### Getting the info of winner "
   ]
  },
  {
   "cell_type": "code",
   "execution_count": 21,
   "metadata": {},
   "outputs": [],
   "source": [
    "winner = api.get_user(Chosen_ID)"
   ]
  },
  {
   "cell_type": "code",
   "execution_count": 22,
   "metadata": {},
   "outputs": [
    {
     "data": {
      "text/html": [
       "<div>\n",
       "<style scoped>\n",
       "    .dataframe tbody tr th:only-of-type {\n",
       "        vertical-align: middle;\n",
       "    }\n",
       "\n",
       "    .dataframe tbody tr th {\n",
       "        vertical-align: top;\n",
       "    }\n",
       "\n",
       "    .dataframe thead th {\n",
       "        text-align: right;\n",
       "    }\n",
       "</style>\n",
       "<table border=\"1\" class=\"dataframe\">\n",
       "  <thead>\n",
       "    <tr style=\"text-align: right;\">\n",
       "      <th></th>\n",
       "      <th>WINNER NAME</th>\n",
       "      <th>USERNAME</th>\n",
       "      <th>FOLLOWER COUNT</th>\n",
       "    </tr>\n",
       "  </thead>\n",
       "  <tbody>\n",
       "    <tr>\n",
       "      <th>0</th>\n",
       "      <td>Efe</td>\n",
       "      <td>Efe25174342</td>\n",
       "      <td>1</td>\n",
       "    </tr>\n",
       "  </tbody>\n",
       "</table>\n",
       "</div>"
      ],
      "text/plain": [
       "  WINNER NAME     USERNAME FOLLOWER COUNT\n",
       "0         Efe  Efe25174342              1"
      ]
     },
     "execution_count": 22,
     "metadata": {},
     "output_type": "execute_result"
    }
   ],
   "source": [
    "dataframecols=( winner.name,winner.screen_name,winner.followers_count)\n",
    "rw =[\"WINNER NAME\",\"USERNAME\",\"FOLLOWER COUNT\"]\n",
    "df3 = pd.DataFrame(dataframecols,rw)\n",
    "df3 =pd.DataFrame.transpose(df3)\n",
    "df3"
   ]
  },
  {
   "cell_type": "code",
   "execution_count": null,
   "metadata": {},
   "outputs": [],
   "source": [
    "import webbrowser\n",
    "webbrowser.open(\"https://twitter.com/\"+winner.screen_name)"
   ]
  },
  {
   "cell_type": "markdown",
   "metadata": {},
   "source": [
    "## Analysis"
   ]
  },
  {
   "cell_type": "code",
   "execution_count": 23,
   "metadata": {},
   "outputs": [],
   "source": [
    "\n",
    "import matplotlib.pyplot as plt\n"
   ]
  },
  {
   "cell_type": "code",
   "execution_count": 24,
   "metadata": {},
   "outputs": [],
   "source": [
    "tweet_reach_base= followers_data.Follower_count.sort_values( ascending=True)"
   ]
  },
  {
   "cell_type": "code",
   "execution_count": 26,
   "metadata": {},
   "outputs": [
    {
     "data": {
      "text/plain": [
       "<matplotlib.axes._subplots.AxesSubplot at 0x1d822453e80>"
      ]
     },
     "execution_count": 26,
     "metadata": {},
     "output_type": "execute_result"
    },
    {
     "data": {
      "image/png": "iVBORw0KGgoAAAANSUhEUgAAA3MAAAK8CAYAAABFgOavAAAABHNCSVQICAgIfAhkiAAAAAlwSFlzAAALEgAACxIB0t1+/AAAADh0RVh0U29mdHdhcmUAbWF0cGxvdGxpYiB2ZXJzaW9uMy4yLjIsIGh0dHA6Ly9tYXRwbG90bGliLm9yZy+WH4yJAAAgAElEQVR4nOzde7hkVXkn/u8rIKAoIjaoYGw0apRbK1dHaTAmyBhHEXXG4AgaldGYaCbJBAyJYn6aYCQmJFHnhxcuxhvRiMSoEY0XNCg02AiIxAutEI0CiYjXcFnzx960x8PpprtOVXev7s/neeo5+6yqemvVObuq9rf22mtXay0AAAD05S4buwMAAACsP2EOAACgQ8IcAABAh4Q5AACADglzAAAAHRLmAAAAOrT1xu7AnbnPfe7Tli5durG7AQAAsFFcfPHF17fWlsxv3+TD3NKlS7NixYqN3Q0AAICNoqq+vlC7YZYAAAAdEuYAAAA6JMwBAAB0aJM/Zg4AAFg/N998c6699tr8+Mc/3thdYT1st9122X333bPNNtus0+2FOQAA2Mxce+21ucc97pGlS5emqjZ2d1gHrbXccMMNufbaa7PHHnus030MswQAgM3Mj3/84+y8886CXEeqKjvvvPN67U0V5gAAYDMkyPVnff9nwhwAAECHHDMHAACbuaUn/MNU6606+Vfu9DZbbbVV9t5779W/n3POOVm6dOmCt33Oc56TJz3pSXn605+eww47LKecckr233//aXV3k7Jy5cp885vfzBOf+MRF1xLmAACAqdt+++2zcuXKjd2NNbrllluy9dYbPg6tXLkyK1asmEqYM8wSAADYIFauXJmDDz44++yzT5761KfmP/7jP9Z6+3e+853Ze++9s9dee+X4449Pkpx99tn57d/+7STJqaeemgc96EFJkq9+9at57GMfmyS5+OKLc+ihh2a//fbLE57whHzrW99Kkhx22GH5/d///Rx66KE59dRTF3zMb3/723nqU5+afffdN/vuu2/++Z//OUnyute9LnvttVf22muv/MVf/EWSZNWqVdlrr71W3/eUU07JSSedtPqxjj/++Bx44IF56EMfmvPPPz//+Z//mZe//OV597vfnWXLluXd7373JH/G1eyZAwAApu5HP/pRli1bliTZY4898r73vS/HHHNM/uqv/iqHHnpoXv7yl+eVr3zl6mA03ze/+c0cf/zxufjii7PTTjvl8MMPzznnnJPly5fnta99bZLk/PPPz84775x//dd/zac//ekccsghufnmm/Obv/mbef/7358lS5bk3e9+d0488cS89a1vTZJ897vfzSc/+ck19vslL3lJDj300Lzvfe/Lrbfemu9///u5+OKLc/rpp+dzn/tcWms56KCDcuihh2annXZa69/glltuyYUXXpgPfvCDeeUrX5mPfvSj+aM/+qOsWLEif/3Xfz3Jn/VnCHMAAMDUzR9meeONN+a73/1uDj300CTJsccem2c84xlrvP9FF12Uww47LEuWLEmSPOtZz8qnPvWpHHnkkfn+97+fm266Kddcc02OPvrofOpTn8r555+fo446KldddVUuv/zy/PIv/3KS5NZbb8397ne/1XX/x//4H2vt9z/90z/lrLPOSjIc97fjjjvm05/+dJ761Kfm7ne/e5LkqKOOyvnnn58nP/nJa6111FFHJUn222+/rFq1aq23nYQwBwAAbHJaa2u87tGPfnROP/30POxhD8shhxySt771rbngggvyZ3/2Z/nGN76RPffcMxdccMGC9709kE2jL1tvvXVuu+221b/PP0fctttum2QIhbfccst6P+6dccwcAAAwczvuuGN22mmnnH/++UmSt73tbav30i3koIMOyic/+clcf/31ufXWW/POd75z9e2XL1+eU045JcuXL88jH/nIfPzjH8+2226bHXfcMQ972MNy3XXXrQ5zN998c6644op17ufjH//4vPGNb0wy7NX73ve+l+XLl+ecc87JD3/4w/zgBz/I+973vhxyyCHZdddd853vfCc33HBDfvKTn+QDH/jAnda/xz3ukZtuummd+7M29swBAMBmbl1OJbAhnHnmmXnhC1+YH/7wh3nQgx6U008/fY23vd/97pc/+ZM/yeMe97i01vLEJz4xT3nKU5IkhxxySK655posX748W221VR7wgAfkF37hF5Ikd73rXfOe97wnL3nJS3LjjTfmlltuyW/91m9lzz33XKc+nnrqqTnuuOPylre8JVtttVXe+MY35tGPfnSe85zn5MADD0ySPP/5z88jH/nIJMnLX/7yHHTQQdljjz1W92FtHve4x+Xkk0/OsmXL8rKXvexOh32uTa1t9+WmYP/9928rVqzY2N0AAIBuXHnllXn4wx++sbvBBBb631XVxa21O5x4zzBLAACADhlmCQAAbHFe/epX52//9m9/pu0Zz3hGTjzxxI3Uo/UnzAEAAFucE088savgthDDLAEAADokzAEAAHRImAMAAOiQMAcAANChzWcClJN2XEP7jRu2HwAAsKlZ07byxPXufBt7q622yt57773693POOSdLly79mds88YlPzDve8Y7c6173WnSXdthhh3z/+99fdJ1pOuOMM3L44Yfn/ve//0zqbz5hDgAA2GRsv/32Wbly5YLXtdbSWssHP/jBDdyrDeuMM87IXnvtNbMwZ5glAAAwc6tWrcrDH/7w/Pqv/3oe9ahH5ZprrsnSpUtz/fXXJ0n+5m/+JgceeGCWLVuW//W//lduvfXWJMMetxNPPDH77rtvDj744Hz7299Oklx99dV59KMfnQMOOCB/+Id/uPpxvvWtb2X58uVZtmxZ9tprr5x//vlr7NOHP/zhPOpRj8q+++6bxz/+8UmSf//3f8+RRx6ZffbZJwcffHC+8IUvJElOOumknHLKKavvu9dee2XVqlWrn9cLXvCC7Lnnnjn88MPzox/9KO95z3uyYsWKPOtZz8qyZcvyox/9aLp/0AhzAADADPzoRz/KsmXLsmzZsjz1qU9Nklx11VU55phj8vnPfz4PfOADV9/2yiuvzLvf/e585jOfycqVK7PVVlvl7W9/e5LkBz/4QQ4++OBceumlWb58ed70pjclSV760pfmRS96US666KLc9773XV3rHe94R57whCdk5cqVufTSS7Ns2bIF+3fdddflBS94Qd773vfm0ksvXX0C8Ve84hV55CMfmS984Qv54z/+4xxzzDF3+ly//OUv58UvfnGuuOKK3Ote98p73/vePP3pT8/++++ft7/97Vm5cmW23377yf6Qa2GYJQAAMHXzh1muWrUqD3zgA3PwwQff4bYf+9jHcvHFF+eAAw5IMgTBXXbZJUly17veNU960pOSJPvtt1/OO++8JMlnPvOZvPe9702SPPvZz87xxx+fJDnggAPya7/2a7n55ptz5JFHrjHMffazn83y5cuzxx57JEnufe97J0k+/elPr677i7/4i7nhhhty441rP0Zwjz32WP04++23X1atWnUnf53psGcOAADYIO5+97sv2N5ay7HHHpuVK1dm5cqVueqqq3LSSSclSbbZZptUVZJhUpVbbrll9f1ub59r+fLl+dSnPpXddtstz372s3PWWWet8TEXun9r7Q5tVZWtt946t9122+q2H//4x6uXt91229XL8/s4S8IcAACwUT3+8Y/Pe97znnznO99JMhy39vWvf32t93nMYx6Td73rXUmyekhmknz961/PLrvskhe84AV53vOel0suuWTB+z/60Y/OJz/5yVx99dWrHzMZwuDt9T7xiU/kPve5T+55z3tm6dKlq2tdcsklq++3Nve4xz1y00033entJmWYJQAAbO428dN1PeIRj8irXvWqHH744bntttuyzTbb5PWvf/3PHFc336mnnpqjjz46p556ap72tKetbv/EJz6R1772tdlmm22yww47rHHP3JIlS3LaaaflqKOOym233ZZddtkl5513Xk466aQ897nPzT777JO73e1uOfPMM5MkT3va03LWWWdl2bJlOeCAA/LQhz70Tp/Xc57znLzwhS/M9ttvnwsuuGDqx83VQrsRNyX7779/W7FixZ3f0HnmAAAgyTChyMMf/vCN3Q0msND/rqoubq3tP/+2hlkCAAB0yDBLAABgs3bQQQflJz/5yc+0ve1tb8vee++9kXo0HcIcAACwWfvc5z63sbswE4ZZAgDAZmhTnxuDO1rf/5kwBwAAm5ntttsuN9xwg0DXkdZabrjhhmy33XbrfB/DLAEAYDOz++6759prr8111123sbvCethuu+2y++67r/PthTkAANjMbLPNNtljjz02djeYMcMsAQAAOiTMAQAAdEiYAwAA6JAwBwAA0CFhDgAAoEPCHAAAQIeEOQAAgA4JcwAAAB0S5gAAADokzAEAAHRImAMAAOiQMAcAANAhYQ4AAKBDwhwAAECHhDkAAIAOCXMAAAAdEuYAAAA6JMwBAAB0SJgDAADokDAHAADQIWEOAACgQ8IcAABAh4Q5AACADglzAAAAHRLmAAAAOiTMAQAAdEiYAwAA6JAwBwAA0CFhDgAAoEPCHAAAQIeEOQAAgA4JcwAAAB0S5gAAADokzAEAAHRImAMAAOiQMAcAANAhYQ4AAKBDwhwAAECHhDkAAIAOCXMAAAAdEuYAAAA6JMwBAAB0SJgDAADokDAHAADQIWEOAACgQ8IcAABAh4Q5AACADq1zmKuqrarq81X1gfH3e1fVeVX15fHnTnNu+7Kq+kpVXVVVT5jTvl9VXTZe95dVVdN9OgAAAFuG9dkz99IkV875/YQkH2utPSTJx8bfU1WPSPLMJHsmOSLJG6pqq/E+b0xyXJKHjJcjFtV7AACALdQ6hbmq2j3JryR585zmpyQ5c1w+M8mRc9rf1Vr7SWvt6iRfSXJgVd0vyT1baxe01lqSs+bcBwAAgPWwrnvm/iLJ7yW5bU7brq21byXJ+HOXsX23JNfMud21Y9tu4/L8dgAAANbTnYa5qnpSku+01i5ex5oLHQfX1tK+0GMeV1UrqmrFddddt44PCwAAsOVYlz1zj0ny5KpaleRdSX6xqv4mybfHoZMZf35nvP21SR4w5/67J/nm2L77Au130Fo7rbW2f2tt/yVLlqzH0wEAANgy3GmYa629rLW2e2ttaYaJTf6ptfY/k5yb5NjxZscmef+4fG6SZ1bVtlW1R4aJTi4ch2LeVFUHj7NYHjPnPgAAAKyHrRdx35OTnF1Vz0vyjSTPSJLW2hVVdXaSLya5JcmLW2u3jvd5UZIzkmyf5EPjBQAAgPW0XmGutfaJJJ8Yl29I8vg13O7VSV69QPuKJHutbycBAAD4WetznjkAAAA2EcIcAABAh4Q5AACADglzAAAAHRLmAAAAOiTMAQAAdEiYAwAA6JAwBwAA0CFhDgAAoEPCHAAAQIeEOQAAgA4JcwAAAB0S5gAAADokzAEAAHRImAMAAOiQMAcAANAhYQ4AAKBDwhwAAECHhDkAAIAOCXMAAAAdEuYAAAA6JMwBAAB0SJgDAADokDAHAADQIWEOAACgQ8IcAABAh4Q5AACADglzAAAAHRLmAAAAOiTMAQAAdEiYAwAA6JAwBwAA0CFhDgAAoEPCHAAAQIeEOQAAgA4JcwAAAB0S5gAAADokzAEAAHRImAMAAOiQMAcAANAhYQ4AAKBDwhwAAECHhDkAAIAOCXMAAAAdEuYAAAA6JMwBAAB0SJgDAADokDAHAADQIWEOAACgQ8IcAABAh4Q5AACADglzAAAAHRLmAAAAOiTMAQAAdEiYAwAA6JAwBwAA0CFhDgAAoEPCHAAAQIeEOQAAgA4JcwAAAB0S5gAAADokzAEAAHRImAMAAOiQMAcAANAhYQ4AAKBDwhwAAECHhDkAAIAOCXMAAAAdEuYAAAA6JMwBAAB0SJgDAADokDAHAADQIWEOAACgQ8IcAABAh4Q5AACADglzAAAAHRLmAAAAOiTMAQAAdEiYAwAA6JAwBwAA0CFhDgAAoEPCHAAAQIeEOQAAgA4JcwAAAB0S5gAAADokzAEAAHRImAMAAOiQMAcAANAhYQ4AAKBDwhwAAECHhDkAAIAOCXMAAAAdEuYAAAA6JMwBAAB0SJgDAADokDAHAADQIWEOAACgQ8IcAABAh4Q5AACADglzAAAAHRLmAAAAOiTMAQAAdEiYAwAA6JAwBwAA0KE7DXNVtV1VXVhVl1bVFVX1yrH93lV1XlV9efy505z7vKyqvlJVV1XVE+a071dVl43X/WVV1WyeFgAAwOZtXfbM/STJL7bW9k2yLMkRVXVwkhOSfKy19pAkHxt/T1U9Iskzk+yZ5Igkb6iqrcZab0xyXJKHjJcjpvhcAAAAthh3Guba4Pvjr9uMl5bkKUnOHNvPTHLkuPyUJO9qrf2ktXZ1kq8kObCq7pfknq21C1prLclZc+4DAADAelinY+aqaquqWpnkO0nOa619LsmurbVvJcn4c5fx5rsluWbO3a8d23Ybl+e3AwAAsJ7WKcy11m5trS1LsnuGvWx7reXmCx0H19bSfscCVcdV1YqqWnHdddetSxcBAAC2KOs1m2Vr7btJPpHhWLdvj0MnM/78zniza5M8YM7ddk/yzbF99wXaF3qc01pr+7fW9l+yZMn6dBEAAGCLsC6zWS6pqnuNy9sn+aUkX0pybpJjx5sdm+T94/K5SZ5ZVdtW1R4ZJjq5cByKeVNVHTzOYnnMnPsAAACwHrZeh9vcL8mZ44yUd0lydmvtA1V1QZKzq+p5Sb6R5BlJ0lq7oqrOTvLFJLckeXFr7dax1ouSnJFk+yQfGi8AAACspzsNc621LyR55ALtNyR5/Bru8+okr16gfUWStR1vBwAAwDpYr2PmAAAA2DQIcwAAAB0S5gAAADokzAEAAHRImAMAAOiQMAcAANAhYQ4AAKBDwhwAAECHhDkAAIAOCXMAAAAdEuYAAAA6JMwBAAB0SJgDAADokDAHAADQoa03dgcmsfSEf7hD26rtNkJHAAAANhJ75gAAADokzAEAAHRImAMAAOiQMAcAANAhYQ4AAKBDwhwAAECHhDkAAIAOCXMAAAAdEuYAAAA6JMwBAAB0SJgDAADokDAHAADQIWEOAACgQ8IcAABAh4Q5AACADglzAAAAHRLmAAAAOiTMAQAAdEiYAwAA6JAwBwAA0CFhDgAAoEPCHAAAQIeEOQAAgA4JcwAAAB0S5gAAADokzAEAAHRImAMAAOiQMAcAANAhYQ4AAKBDwhwAAECHhDkAAIAOCXMAAAAdEuYAAAA6JMwBAAB0SJgDAADokDAHAADQIWEOAACgQ8IcAABAh4Q5AACADglzAAAAHRLmAAAAOiTMAQAAdEiYAwAA6JAwBwAA0CFhDgAAoEPCHAAAQIeEOQAAgA4JcwAAAB0S5gAAADokzAEAAHRImAMAAOiQMAcAANAhYQ4AAKBDwhwAAECHhDkAAIAOCXMAAAAdEuYAAAA6JMwBAAB0SJgDAADokDAHAADQIWEOAACgQ8IcAABAh4Q5AACADglzAAAAHRLmAAAAOiTMAQAAdEiYAwAA6JAwBwAA0CFhDgAAoEPCHAAAQIeEOQAAgA4JcwAAAB0S5gAAADokzAEAAHRImAMAAOiQMAcAANAhYQ4AAKBDwhwAAECHhDkAAIAOCXMAAAAdEuYAAAA6JMwBAAB0SJgDAADokDAHAADQIWEOAACgQ8IcAABAh4Q5AACADglzAAAAHRLmAAAAOnSnYa6qHlBVH6+qK6vqiqp66dh+76o6r6q+PP7cac59XlZVX6mqq6rqCXPa96uqy8br/rKqajZPCwAAYPO2LnvmbknyO621hyc5OMmLq+oRSU5I8rHW2kOSfGz8PeN1z0yyZ5IjkryhqrYaa70xyXFJHjJejpjicwEAANhi3GmYa619q7V2ybh8U5Irk+yW5ClJzhxvdmaSI8flpyR5V2vtJ621q5N8JcmBVXW/JPdsrV3QWmtJzppzHwAAANbDeh0zV1VLkzwyyeeS7Npa+1YyBL4ku4w32y3JNXPudu3Yttu4PL99occ5rqpWVNWK6667bn26CAAAsEVY5zBXVTskeW+S32qtfW9tN12gra2l/Y6NrZ3WWtu/tbb/kiVL1rWLAAAAW4x1CnNVtU2GIPf21trfjc3fHodOZvz5nbH92iQPmHP33ZN8c2zffYF2AAAA1tO6zGZZSd6S5MrW2uvmXHVukmPH5WOTvH9O+zOratuq2iPDRCcXjkMxb6qqg8eax8y5DwAAAOth63W4zWOSPDvJZVW1cmz7/SQnJzm7qp6X5BtJnpEkrbUrqursJF/MMBPmi1trt473e1GSM5Jsn+RD4wUAAID1dKdhrrX26Sx8vFuSPH4N93l1klcv0L4iyV7r00EAAADuaL1mswQAAGDTIMwBAAB0SJgDAADokDAHAADQIWEOAACgQ8IcAABAh4Q5AACADglzAAAAHRLmAAAAOiTMAQAAdEiYAwAA6JAwBwAA0CFhDgAAoEPCHAAAQIeEOQAAgA4JcwAAAB0S5gAAADokzAEAAHRImAMAAOiQMAcAANAhYQ4AAKBDwhwAAECHhDkAAIAOCXMAAAAdEuYAAAA6JMwBAAB0SJgDAADokDAHAADQIWEOAACgQ8IcAABAh4Q5AACADglzAAAAHRLmAAAAOiTMAQAAdEiYAwAA6JAwBwAA0CFhDgAAoEPCHAAAQIeEOQAAgA4JcwAAAB0S5gAAADokzAEAAHRImAMAAOiQMAcAANAhYQ4AAKBDwhwAAECHhDkAAIAOCXMAAAAdEuYAAAA6JMwBAAB0SJgDAADokDAHAADQIWEOAACgQ8IcAABAh4Q5AACADglzAAAAHRLmAAAAOiTMAQAAdEiYAwAA6JAwBwAA0CFhDgAAoEPCHAAAQIeEOQAAgA4JcwAAAB0S5gAAADokzAEAAHRImAMAAOiQMAcAANAhYQ4AAKBDwhwAAECHhDkAAIAOCXMAAAAdEuYAAAA6JMwBAAB0SJgDAADokDAHAADQIWEOAACgQ8IcAABAh4Q5AACADglzAAAAHRLmAAAAOiTMAQAAdEiYAwAA6JAwBwAA0CFhDgAAoEPCHAAAQIeEOQAAgA4JcwAAAB0S5gAAADokzAEAAHRImAMAAOiQMAcAANAhYQ4AAKBDwhwAAECHhDkAAIAOCXMAAAAdEuYAAAA6JMwBAAB0SJgDAADokDAHAADQIWEOAACgQ8IcAABAh4Q5AACADt1pmKuqt1bVd6rq8jlt966q86rqy+PPneZc97Kq+kpVXVVVT5jTvl9VXTZe95dVVdN/OgAAAFuGddkzd0aSI+a1nZDkY621hyT52Ph7quoRSZ6ZZM/xPm+oqq3G+7wxyXFJHjJe5tcEAABgHd1pmGutfSrJv89rfkqSM8flM5McOaf9Xa21n7TWrk7ylSQHVtX9ktyztXZBa60lOWvOfQAAAFhPkx4zt2tr7VtJMv7cZWzfLck1c2537di227g8vx0AAIAJTHsClIWOg2traV+4SNVxVbWiqlZcd911U+scAADA5mLSMPftcehkxp/fGduvTfKAObfbPck3x/bdF2hfUGvttNba/q21/ZcsWTJhFwEAADZfk4a5c5McOy4fm+T9c9qfWVXbVtUeGSY6uXAcinlTVR08zmJ5zJz7AAAAsJ62vrMbVNU7kxyW5D5VdW2SVyQ5OcnZVfW8JN9I8owkaa1dUVVnJ/likluSvLi1dutY6kUZZsbcPsmHxgsAAAATuNMw11r71TVc9fg13P7VSV69QPuKJHutV+8AAABY0LQnQAEAAGADEOYAAAA6JMwBAAB0SJgDAADokDAHAADQIWEOAACgQ8IcAABAh4Q5AACADglzAAAAHRLmAAAAOiTMAQAAdEiYAwAA6JAwBwAA0CFhDgAAoEPCHAAAQIeEOQAAgA4JcwAAAB0S5gAAADokzAEAAHRImAMAAOiQMAcAANAhYQ4AAKBDwhwAAECHhDkAAIAOCXMAAAAdEuYAAAA6JMwBAAB0SJgDAADokDAHAADQIWEOAACgQ8IcAABAh4Q5AACADglzAAAAHRLmAAAAOiTMAQAAdEiYAwAA6JAwBwAA0CFhDgAAoEPCHAAAQIe23tgd2JQsPeEf7tC2aruj73jDk27cAL0BAABYM3vmAAAAOiTMAQAAdEiYAwAA6JAwBwAA0CFhDgAAoEPCHAAAQIeEOQAAgA4JcwAAAB0S5gAAADokzAEAAHRImAMAAOjQ1hu7A5u7pSf8wx3aVp38KxuhJ8Am5aQdF2i7ccP3AwDolj1zAAAAHRLmAAAAOiTMAQAAdEiYAwAA6JAwBwAA0CGzWQIAsOGZ1RcWTZhj87HQh0LigwEAgM2SYZYAAAAdsmduY7AHCQAAWCR75gAAADokzAEAAHRImAMAAOiQMAcAANAhE6B0aOkJ/7Bg+6qTf2UD9wQAANhYhDkAAGDNnOB9k2WYJQAAQIfsmWO1hYZvGroJAACbJnvmAAAAOiTMAQAAdEiYAwAA6JBj5mBjMCsUAACLJMwxU86JBwAAs2GYJQAAQIeEOQAAgA4ZZkmXFjwn3nYboSMAALCR2DMHAADQIXvmYHNilkwAgC2GMAewNgsF5ERIBgA2OsMsAQAAOiTMAQAAdMgwS9ZuCxpi5gTnAAD0xJ45AACADglzAAAAHTLMEmZsFic4X+OQUCdOZ0vn9BywZduCDg+BRJgD5lgweDpmEABgkyTMbU58Iz0b/q4AAGyChDk2DgFpizGrWULtRQQAtnTCHADAhubYLmAKhDmA0Swmq5lVXXsmgQUZ+QJbFGEOgCSzGxLLZkBAANgkCXPA5sMG5yZp4T2TRy98Y/+vxfEaANiiCHMAdGezONei4AXAIglzAJsLEyos2iyORdwsgucsCLMAiybMAWtngws2SbOasAfuwBdFsMkS5gCAJPYiwmbBl7BbFGEOANbGXolF21Cn50jMvgpsWYQ5AIDRhjpu0t5OYBqEOWDjMAwE6IX3K2ATJcwBsHY2ZOnJFrS+bqjhq/YiwqZLmAMAgLXZgr4koC/CHAAAMzOrWVLtRQRhDgAAYO020b2zGzzMVdURSaSEr1MAACAASURBVE5NslWSN7fWTt7QfQAAgPk26LkWnfaEKdigYa6qtkry+iS/nOTaJBdV1bmttS9uyH4AAAAb2Sz2dm2ie9BmZUPvmTswyVdaa19Lkqp6V5KnJBHmAADYLG2omUenUZe+bOgwt1uSa+b8fm2SgzZwHwAAgAX0FDx76uuCprAXsVprU+rNOjxY1TOSPKG19vzx92cnObC19pvzbndckuPGXx+W5Kp1KH+fJNdPsbuzrKuv+qqv/fR1S3/+s6qrr/q6pfd1S3/+s6qrr/q6ufb1ga21JfMbN/SeuWuTPGDO77sn+eb8G7XWTkty2voUrqoVrbX9F9e9DVNXX/VVX/vp65b+/GdVV1/1dUvv65b+/GdVV1/1dUvr612m1Zl1dFGSh1TVHlV11yTPTHLuBu4DAABA9zbonrnW2i1V9RtJ/jHDqQne2lq7YkP2AQAAYHOwwc8z11r7YJIPzqD0eg3L3Mh19VVf9bWfvm7pz39WdfVVX7f0vm7pz39WdfVVX7eovm7QCVAAAACYjg19zBwAAABTIMwBAAB0SJgDAADo0AafAGVLV1WPTXJgkstbax/Z2P3pVVUdlOTK1tr3qmr7JCckeVSSLyb549bajRu1g3NU1UuSvK+1ds3G7stiVNVzW2unb+x+9KiqfiHJU5LslqRlOL/mua21KzfFurNQVQ9O8tQM5xq9JcmXk7xzMa/VOae4+WZr7aNVdXSS/5LkyiSntdZunqDmBnlvqaqzWmvHTKNWL8b1dbckn2utfX9O+xGttQ9PUK+bzwEG014HNpSq2qW19p2N3Q9YSJd75qrqvlX1xqp6fVXtXFUnVdVlVXV2Vd1vU6pbVRfOWX5Bkr9Oco8kr6iqExbR15dU1QPu/JbrVfOgqrrnuLx9Vb2yqv6+ql5TVTtuYnXfmuSH4/KpSXZM8pqxbaLAUVX7V9XHq+pvquoBVXVeVd1YVRdV1SMn7GeS/H9JPldV51fVr1fVkkXUmt/nB1fV71bVqVX1Z1X1wsX8r+7EKye5U1Xds6r+pKreNm5sz73uDZN2ZkavgR2r6uSq+lJV3TBerhzb7jVhzeOTvCtJJbkww/k2K8k7F/keMKu6U3+9jl9o/N8k2yU5IMn2GULdBVV12KR9zfBa/5UkL62qtyV5RpLPjY/x5glrzuK95dx5l79PctTtv0/Yz1TVEXOWd6yqt1TVF6rqHVW164Q1d6iqP6qqK8b3v+uq6rNV9ZxJ+znWfUmS9yf5zSSXV9VT5lz9xxOWnfr/aiFV9diq+u2qOnwKtX7u9veSqlpaVU+vqr0WUW/qn1s9rQMz2m6797zLzkkurKqdqurek9Qc6961qmrO74+rqt+pqv86ac01PM4OVfWoST+z5tSZ6rq6hsdYdF+r6pKq+oMavjCcZt/2mWa9ebW3WaDtPhMXbK11d0ny4QxvBick+UKS45P83Nj2/k2pbpLPz1m+KMmScfnuSS5bRF9vzPAt/PlJfv32uov8u16RZOtx+bQkf5HksUlekeTvNqW6Gb6NvX35knnXrZyw5oVJ/muSX01yTZKnj+2PT3LBIp7/5zN8cXJ4krckuW5c145Nco9F1H1JkvOS/EGSf07yhiSvzvCt9GET1vzCGi6XJfnJhDXfm+TkJEcmOXf8fduF/nfrWXcWr4F/HF/3953Tdt+x7bwJa/5Lkm0WaL9rki8voq+zqjuL1+tlSbYal++W5BPj8s/NfY+cZH0df26d5NtzHqNuv26CmrN4b7kkyd8kOSzJoePPb43Lhy7i+V8yZ/nNSV6V5IFJ/neScyas+f4kz0mye5LfTvKHSR6S5MwMe7sm7etlSXYYl5cmWZHkpePvE60Ds/hfjfe9cM7yC5KsHNf/zyQ5YRF1T0hydZIvJXn++PMt42vutyfta6b8udXZOjCL7bbbxv/T3MvN48+vLeL5X5pkp3H5/2T43P6DDJ/jf7KIum+Ys/zYJN9I8vFxfXjiprKuzrCvVyc5Zax1YYb3v/tP2sc5dW9N8pUMX8g/YrH1xpqPS3Jthu3AjyRZOue6ybeHptG5DX3Jzwakb8y7bjFv4FOve/uLN8nOSVas6fEm6WumHBAyuw/GWWwc/W2S547LpyfZf1x+aJKLZvD/X8z/av5z3ibJk5O8M8l1i6g79Q3kDBvEyzJsEM69LM0wlG2Smivn/X5iho2inRf15jWb18BVk1x3JzW/lOSBC7Q/cNKaM647i9frZflpgN8pycVzrrt8EX29PEN43SnJTUnuPbZvN/d5rGfNWby33CXDBsZ5SZaNbRNvFC70/1ngdTbxZ9a83y+a8xy+tIi+fnHe7zuMr9fXLaKvU/9fjfef1ZewV2TYK73zuL7OrTvR6yAz+NzqbB2YxXbb74792ntO29WTPu85NS6fs7wiyfbj8taZ8Mun8f5z3wc+nuRR4/KDMm+7cz1qTn1dnWFf59Y8JMMX2/821j9uEX39fJK9MnxJ/pUM2/MnZE4Am6DmRUn2HJefnuFwg4Nvf7xJ63Y5zDI/Ozz0rLVctynU3THJxRleuPeuqvsmw67lDN8eT6q11m5rrX2ktfa8JPfPsAIfkeRrE9a8vKqeOy5fWlX7j319aIZvpSY1i7rPT3JoVX01ySMyDNf6WpI3jddN4sdVdXhVPSNJq6ojx34emuEbmkn9zP+5tXZza+3c1tqvZghei3H7ca/bZhi+m9baNzIExkl8IMM3p1+fd1mV5BMT1ty2qla/flprr86wx+dTGT4oJjWL18DXq+r35g5Rq6pdxyGNkx7z+FtJPlZVH6qq08bLh5N8LMlLJ6w5y7qzeL2+OclFVXVakgsyDDdPDUOO/30RfX1LhlC7MsOXBH9bVW/K8IH5rglrTv29ZVxP/zzJc5OcWFV/nekcs77LOPzvd5Lcc+4Qrkz+mfWDGo7tTlX9t4z/n9babVncZ9a/VdWy239pw/FST0pynyR7T1hzFp8DSXKXcUjdzhnOx3vd2OcfZDjec1K3ttZ+lOS7SX6U5IY5dSc1i8+tntaBqW+3tdZOybD+vLyqXldV98hwTPJifW/OMMXrM3zplAzvBdPaHr9na+2SJGmtfS3JVhPWmcW6Ot+0+rpaa+381tqvZzgu8zVJHr24cu3y1tqJrbWfz7CXfpck51fVP09Y866ttSvG4u/JMGLpzKp6ahazjk2aAjfmJckfZdxVP6/955O8Z1Oru4bHuluSPRZx/zUm+Izf9kxQc8ckZyT5aobjTm7OsFH8yST7LqKvM6k71r5Hkn2T7Jdk10XW2jfDMLsPJfmFDMdgfDfDN1T/ZRF1HzrNdWdO3ZdmGFZyWoYN2tu/oV6S5FOzeMwJ+/mnSX5pgfYjsrjhgLN4DeyU4QPgSxk2YP49w2Qar8m412fCundJcnCSp2X4Nu7gjHtVF/m3nXrdGb4P7Dn28RemvH7dP+OQmiT3Gh/jwCnUndp7ywK1fyWLGK42p84r5l1u//b8vknOmrDmPhmGKt2Y5NNJHja2L0nykkX0dffMGb4877rHbEr/qySrxnX+6vHnfcf2HbK4USpnJHlHhmGM70zytiTPyvClxNkT1lzb59ZEf9ee1oHMeLstyX9L8tkk/zaFWvtk2Ltz1nj5aobjPlckOXoRdX+Ynx4OcVN+OpTzLpl8j+/U19UZ9vVdi/3frKHugtsYGb7QOHTCmivmvwbG18XKJDdN2tcaCzEjVXWv1tp3Z1D3oa21f5l23bH2PTLs8t46ybWttW9vynUXeJwd2pxZsjYV496e1bMOTuP5V9WeSR6e4U3wS4utt0D9n8+wsXBla+2L066/GLN8DczCuBdq9wzf7F89i3W0qp7cWpt4Qo15tTbI63UaZv23rap7t9YWswfx9jpTfw9gYbP4HKiqu2UIi1dPeP+tM0zS05K8J8PM1kdnONbn9W26ez02Wb29DmqYKfXBrbXLp1BrqwyHBjw043trkn9czHZiVT1wXtO3Wmv/OU6osby19ncT1JzJujqLvs5KVR3dWnvHlGv+UobDay6d175jkt9ow8il9a+7OYS52gDT/deE07JX1S0Zhqe9M8l7ZxHsxseZ6Ub3Yj4YZxVo1/J432itrffwxVrzNOdfTPKmNsE052PdZRlm8tsxyb+Ozbtn+Pb019s4zGBTUFUfT/KM1tr1VfXsDAe+fyrJQRmmev+rCetukOmop7XRPafeot9bquoRSf4yw3GHP5dhHP4uGfZ0vbRNOH16VR21QPMbMkwGk03sQ3GfDHuQd8uwB+H41tp/jNdd2Fo7cMK6C/1tl2RYZyf621bVYzIMC70tya9lmFTkwRmGLv/31toFE9ScyXtAzWhq/prBKS+qau8Mwx+nug6s5fEm+hyYc/+tW2u3jMs7ZNjr9bVpvr9MyyzeX2s2pxJZ2+vgRa21z09Q8yUZJma6dtJ+raFuN6d9WUhV7dxau2HKNbs7PcOk2+7dmeYuyQ11yYxmmrqTx/zGhPe7LMOY8LdnGHP8/gyBYaJhYHPqfjzJfcblZ2eY2e7N4+P95qby/Mf73pLko0mel+ReU+rPb6/h8jtJ/n3Cmm9P8u4kf59hSMH7xr/tGUnOXERfVyY5aIH2gzPvQPP1rLtPhuEf12TYUN5pznUXTlhz7gHaFyXZeVy+WyafHfAlSa5Kck6G4UtPmXPdYiZAeUyGIZBXZAib52UYEnVNkkdPWHPq7y3j/+j2YUoH3r4ujfUXMyz8lgzHOL41w+QPp2cYtnJ6krduYuvVpzMMq71XhskFrsjwTXeyuMmFpv63zTC8bO8Mx1pcn+SxY/ujknxmwpqzeg+Yxcyjx4/9PSHJ/xwvJ9zetoi+Tn0dyAw+B8a6z8nwef0vGWaK/FqGY1GvSfKri6h7zyR/kuHz5eh5171hwppTf3/NDGZKHutO/XWQ2cxqPKvXwCXj3/TBi+3jvLon56fbg/uP6+tXknw9kw8HvPcCl1UZDkVYzCEHO479/dL4Grshw+f4yZnS9uG8x5t42/VO6n5ok1oHZvEkZ33J7GaamsW07HNn2dk+yX9P8nfjCvyORfR1Fhvds/pgnHqgTfLjDNPFvmKBy3cn/f+PP6c2zfl4/zUeF5bkK4uoO4uNo88n2W1c/niS7cblrZJcsYj//1Snox7vO4uN7qm/t+SOM8PNfU/44iQ1x/sekGED80X56SiLqyetN+P1av5Mi4/LOItXFhfop/63nbcOXLmm+utZc1bvAbOYeXRWp7yY+jqQGXwOjHUvyzApxx5Jvjdn/d81i/ssmPppWmbx/prZnUpk6q+DzGZW41m9Bq7ObKbQv2zO8seTHDAuPzSTzxA5q9MzzOL0P1Pfdh/rPmoNl/0yDA/dZNaBacymtTHcpap2yvAC/pmZpsZhjZPaNckTkvzHvPbK8O3UJFbP/NSGmYHOTnL2OD72yAlrJsnNVbVba+1fk3w/ye3jl3+SyWcE+uMkr83Cs3UtZqalm1trH0jygXEo0H/LEOZeX1X/2Fo7eu13X9AlGc6jdPH8K6pq0lnM7jIOtbx7hg+wHTNMgLFtJp8dMkk+VFX/kOGA59tnRHxAkmMyfOhMaof20yE0p1TVxUk+PA6PbBPW/N9JPlJV782wEf9P4wyJh2Tyk/Bu1cahP621VTWcJPo949j5xcyMtk1r7bIkqarrWmufHh/jknE9m8Qs3lu+WlV/mCF4HZXh293bTxo68Xtwa+2iqvrlDOdT+qcaZtyc9P8+1yzWq6qqHds4RKu19vGqelqGjdmJT8Kb2fxt577XvWzedXedsOas3gMunzOM6NKq2r+1tqIWN/PobRkmlfn6vPb7jddNahbrwCw+B5JhJr/rk1xfVd9vrX01SVpr365azFtWHtxae9q4fE5VnZjhtfvkRdSc1fvr1hlmw/yZmZJrgZMdr4dZvA5aG2bZ/EiGz65t8tPz7p2SYdj1+prVa+A/Wmu/m+R3q+qQsY+XVNWVGYawnjZh3W3mDAvevrV2UZK01v6lqradsObvJfmlJP9nzufs1a21PSasd7ulrbXXzG1orf1bktdU1a9NWHMW2+7J8IXuJ7Pw62jSk5zPZh1YbBrcGJfMbqapt2T8dn+B6ybai5bkd2f0Nzgsw8b2H2WY5vufk7w8w9CIiR5zrLHfGq67ZhF9XdOMQDsmOXbCmg/LGoZTZMLZzDIEma9leAN/SYYNxDdl+HbnFYv8f/3XDMcK/H2GoXH/NxOeIHNOzUuT7DivbZ8M33bfsIi6O2bY2/PnSf4qwzdmE89AmOSfMp5ba07b1hk+0G9dzPOfs3zkvOsmnRVr6u8tGd70/3T8v78647fF49/54MWsA3Me4/4ZviiaxrnLpr5eZThw/g7PNcM3/W9aRF+n/rfNcA7Iuy3Q/uAkv7eIvs7iPWDqM49m2Cv7lQzHtZ02Xj48th2xiL5OfR3IDD4Hxvuem2E45F+P719/lmFY9ysyTFYxad0rk9xlXtuxGT7Lvz5hzam/v2aGMyVP+3WQ2cxqPKvXwB32vmb48v2IJKcvou5vZgizv5jkpAzDrZcneWWSty2i7u4ZzuX4ugyBfhqfLx/JEBR3ndO2a4btjI9OWHPq2+7jfS9P8pA1XDfRNvGs1oHNYgKU2y12pqnejHv3js7Pzor0/jbhrIZV9bAMG2vXL3Ddrm3CGaeq6nfbcN6WTV5V3T9JWmvfrKp7Zfhm6huttQs3bs/uaJyg5Wuttc/Oa/+5JH/YWnvBxunZz6qq3ZPc0oZv3+Zf95jW2mcmrPvkDG/+P5zX/uAkT2ut/elEHV74sbaY95Ze1it+qqY882gN54U8MMPkD5Xhs+Wi1tpizrfZjaq6Z5IXZ9gT/dcZvvV/boYv+l7VWvvWhHX/NMlHWmsfndd+RJK/aq09ZIKas3p/nelMydNSM5rVeBavgap6V2vtmVPq4vzaj0vywvzs9uA5GY6fXsx5gm8/1+CJGfaq3XeRtXbKcPzhUzJMBJYMh7Wcm+Q1bROaYKiqnp5hCOtVC1x3ZGvtnAlqzmQd2KzC3KaoqvZprX1hXN4mw7cPB2ZI/K+avyHKuqmqB2U4iPSbGY5B+PMMx05dmWFYwKpF1J7qtMlV9RsZzoNy/Rg0Ts9wrNe/JHl+G4cwbKqq6l9aaw+dcs2pTaE/CzXFqe5rmIr6+WO9D7XW/nnOdX/QWnvVhHW7fm+Zxnq1htfWPhkmhJj6a6uqTmutHTelWlN/XY11p/7amkbNWayvs/wc6FltoqfSmNV74bzHmMnM3tP6m/aqpnh6hg1hS/t/TeuM8xtUVe1TVZ+tqmuq6rQx6d9+3cR7UGZU94w5yydnOJHln2WYDOX/LqKvd6uq36uq/1NV21XVsVV1blX9aQ3TKE9S8zdqONdHqurnq+pTVfXdqvpcDdNKT9rXB1XVW6vqVVW1Q1W9qaour6q/raqlE5Y9I8N45u9nmNHuSxmGb3w4w+x+k/RzWVV9NsOpJP40w/GDnxzXiUdN2M9kmHL59r2df5nkz1trO2XYmJl4HVhIVS3qG8qquqmqvjf+vKmqbkry4NvbJ6x51LzL05Kcdvvvi+jr31XV/5x0fV9DzUdU1UeTXJBh2Nqbk1xWVWeMe8In8f8nOTTD5D9/VVWvm3PdxM8/s3tvmfrrdc569b1prVejhV5b98oiXltV/4+98w63qyi7+G+FhN6LRAmhygeoIC1Ib6IUkV7EQhNQBKQqAooi0kWaWABBQDpIkSIoAUQEElIJISAtdEECRoqUvN8f75zcnZNzE+7smXvPgVnPs5/su3fOOnP2nj7vrKUFuzkWAraI5ExergJvc9najpplKwdnwIWV81T59UIStwPdoW7dGjgOlK+kJYOkoyvnK4Z0PijpKbl1RQxnrrYweV0oaWil3/J14GY8D1wh6YBIznUkjZc0TtKakm4Hhoe+4VoxnBXuZSQdJukMST+X9K0abUuDc1ZJ35B7mCFpV0lnS/qO6u1xnApzzYfv1eXJVAayvK/ANW84n0PSTyTdKOmkOu9M0vKSNmnuu8hX6OMQG5/Zlwf5ZK6zqANWzkcRFJKor5B4Jd4QnoPv7Tobj5E+hcgYaSpqhcBNwLbhfEMi1QHD5+/G92Adgc/CHopvet4LuCPBc53Y3b0ecuaSD59QOR/WdK9OHpiMK639J5xPxjesTwb+E8l5Fr7XohrP/mRsGsPnc0noP4ebmb4aysO2wKw105pD6n5M5bw/vv/iWlxYoE59latuyVFek+erwJG8bIUy1Ng32Tgaf7/TZr8/ednKWF6T51cytAPhs426dTKJ6tbAm0NGv6rgehOweTgfAtwbyZmrLUxeF5JH2Tu5UnL4/HfJY/mQ3FYJD3usHjfikyY34H577VQGcr2vHNYveaya6j7EvjjIJ3OdQzr5CbyTuT3Ty1zXqRRHhX8FvEhXyGydhjHXoCPHwOtBPDZ8jVB4Vw/Xl63x+3PJh/8sVKpLA0cCB+Gb/vcA/lSDN1cHcTV8U/2B+Op9rU3P5JPQHxn+nQdvuG7GZakvAL4QyZlD6v6RFtd+hHvX1ZG5zlW35OogJ81XgTN52Qp1/uBu7tURgsrx+5OXrYzlNXl+zdEOhM/nqltzyOhX66iRzd8XyZmrLUxeF5LHTie5PUn4bC7Lh+S2SrhS7CX4ZP4G4d8XwvkGNdKaowzkel85rF+yWDV1ZJglQeK48YeZDcUbiIuBJdqM9y5cHe1LwH3yGHQkDcQbn1owzwE3h38bf1sk3dUhnGxp4I+SDpI0WNIeuCdGLKZIWk7SGsCcklaHqbHtsTYK38Nnii7CLR5+IOmf+GzXDyM5b5F0k6SdJa0djp3lUsrR8uFmdhQernIZ7tv308D3SeCrNXgPAM4ALguhC/1IIE1vLvP9+fDnXcDsNfmGAZvisu53SBpCGgn9Rp6fbGYXm9kWuLrd/fiqUgwel/TD8O5PJY3U/fDm8AkzOxYfdC4ZyQn56pYc5TV5vgqcOcrW6bgxbitEi+pk+v3Jy1bG8pojv+ZoB7LVrQQZfTO7zcz2wlVoz8Ejgp6I5FxavsXiRmCQXKypgdgQuyxtIXnqwoadzrF02en8KKTzgkjOHPYkDTTakWksH6hnf9SwVZqHLlulxnfE8q6OT5YcBbxuZncCb5nZXWZ2V4205igDud7XQ6H/C8H6BVx0h3jrl2msRPBB8uYh5DjeSiR2FNiXB/lkrrPwZnoG5xFG903XlwHuqcG7O94ZfgUPKXkY95+brwbnJviy8nh8ifoaXOL3X1SWmBM8k4VDQanDkVw+vBfyQj98tv9v+Cb1lNwfT/n7SSuhX0siuxvO7DYC7X70RnlNna867cjx+3GhiiRlq8KZrLz24rOt3Q5UuJLWreSR0d+g6WjM+i8KfKdGWjumLSS9nU4ue5Islg/ktVVq2BOcTVOkRiRfjjKQ633lsH7JYtVU1Cx7AZLWB14yswmS1sXDNseb2U2Zvk/W5i82bFieZPVkfls914fN7OZU6UyFsOK7GRVlMNyv6LWE3/FxYJU6v18u93+bmb2dKl0FU6XOF7FgPly5PlXhL5J3ILjpqlyBcz08XHpcrQRP/z0pymv2MhC+53gzOzIlZ4V7UzO7PQHPUsAqeH3VtrLvvYVUzzUXZ4q6NfBkkdHvFMjtTf5lZm9LEj55vCo+aXyuuen1hxrKZPmgzLZKkrYE1qlbt3ZiGVBC6xdlshLp1DDLbiEpzj3dP9tP0h4hvGC0pAclXS5pwxqcp+PKXRdL+ik+6z8HcLCkU2J5W3zPUnK1seVTDuQkHZ+AY7Ck2cO5wrL1McDekqJC12bwXA+Jfa6V9/+nVO8/8H4Djz/fEA+BmAvfj/lguJcEZvZCo7MhadNImiuAZyVdLGkLuZR0NtQpr+Hz88ol6ZuvrxTJt1LlfICko0MI0/FN4Us94dwJn4W9Rq62tUbl9oUxnIF3X1x18z5J38Znz78EXCtpr1jewD2wMVAMg8T18RDWWL4sZUDSmU3HWcB+jb9jeWeA82M+JOm6yvnW+OzsVsD1knaPTYxaKxBPUk0F4hbfk7vzFfVcc3JWywAuCjN76IhHo1UnVtKCdTglzSJpX0k/lbRO072ju/vcTDivlfRVJVQKDriZrn7nicCW+IrHGvhqVY8hV9+9QGnVd/uHZ3qrpDGhP3CLXHmyljqkmY0zs6sbAzn5BGptmNnzZvZ8OH8NF2tK6Y87Aa+vV6xD0k0ZSPIMWqFuHyNgdjzfvgO8UYfIzJ4Nk6+LSlpV0ioKIeexAzmgM1fmZlD5Cd9IHSV7KukCfJn6L8AOuJrV3/Al++vN7KwIznHAp/GBxnP4Rt03Q4Uw0sw+HZnW68xsm3C+Nb7P405gbeAEM7swgrO58yNcWOIiADM7MDKtDwFDwu8+CV/6vg7YOPDuGcGZ/LnmeP+BdwKuDPZa0/UFgPstj9fURDMbHPG5kfh72QHYBX/GfwQus8g4+YzldSc83/8L3xewu/l+HySNMLMeS2hXPyfp58BC+L6LbXCVtB4PPCSNwhXmXpDvP7oIONLMrpU00sxW6Sln4B0LrImXgaeBZUMjsQAw1Mw+G8m7L77nUMBJ+Oz5OGAd4GQz63EnOVcZkPQsXu/dRtd+g1NxNWLM7PcRnN35qQnY2MzmiuCc+p4l3Qt81cyeDAOxv5rZyj3lDFzjzOxT4fwm4Dwz+2OYgPqZma0zQ4LWnJPp2h/WeKZzAm/i+13mjUxrjueanDPwJi8DgXcdfIvEFGBP4Di8PRwA7GRm/4jgPA9/Pw/g7fVdZnZIuBdbDz6HTxRtjLeHlwE3mdk7PeVq4n3YzFYM5w8Ca5jZlPD36JhyIOnukL75gK/h9fWVuMDGV81s4wjOy4DXgN/j5tvg4Ya7AQua2c495Qy8zfYLAn6JqzpiZte2C6+kocCO5h6eX8f3oN6Ntzm/rdEfypHWXH2MFXHLmyUJIjW40fldmpVVIgAAIABJREFUuGjJ6xGcn8VDlufD+67gees13GpnZExaa8W+9tVBBunowDum6e/7wr+z0aSQ0wPOh8K/swOTCDHBuJBAlDpe+HxVvedeYKlwvjDxymDP4upF38Arrd1wpaHdgN1qpPXhyvmDQL/K37FpTf5cc7z/8PlHabHnEC/MddQMm6WDqxLCb0RyNis2DcRj8P9BpJJfxvI6Cvh4OB+Cr35tF/5uGysRYGzT3x8P5eDA5ucd+66ay1Hs72+kF+8cLoRLUQ8M1xcgXsErVxmYBx/QX0qXol1d9dVJ+IpB816kDfGw7rrv6oGE7yqHNUMuJccczzU5Z+BNXgYa757EEurkkftPrhQc+P6MD7LB9+IuEc4Xaq7DeprWcJ5KLXvCDO49WuP357L9yGFRktzyIWNac/UxclgVZbH9iFVn62s8AWxirgA0DSQ9U4P3XUnLmNnjcmPMdwDM7H+SYpcwb5L0N3zQcR5wpdyMcwN8liMW1fT0N7MnQ1pfkTQlknMFXA1uM+BwM3tO0jEWMbvdhGckbWxmd+C+GosDT8tNeGOR47nmeP/gQhojJN0GNPLnYFwx7qc1eNfDZyL/23RdeMUTg2nUlMzjus8EzpS0RCRnrvI6i5m9AGBmD0jaCPiTPCY99n3NJ2lbPKRiNjN7N/BbjTwwuZGvAtcLIa1/BOqEbU2RNCCkccvGRXlIc50Q+nfN7E3gTUmPhzyAmU2q8QyylAEzmwwcJGk14JKwOlV3+8B9wJvWYiU6rDDGYGW5ObiA2SQNNF9FnZUaCqEEBWLgWIICMd6R34RIBWIzOyA8z8vk4aFnk0bJMcdzzcEJecoA+OTQ2JC+l83snsA7QtIckZxT1frM95ztI1dzvAOIDZO0wDcZV/O+OKx+7ISvWN4WyftN4CJJP8b9xkaFaJAFcDXaGEyRqwvOR1DfNbPhqqe+O0nSjsA11rVy2A/YEZ9AiMVaeHjpMODXoV3Z0Mz2mMnn+oL3XUmLmdlzeB+jEV74P+rVWTnSmquPMYeZTYCpfYxfh/NzJR0cyTmXmd3ffNHM7pMUFUnQIOi4A/gO3SjJAAfU4N0YbwAfxUf0a4bri+ChFbG8axGU8PCQisPwSrFfDc736TI1fYeumcNZqTFrEjhWw/1aDgOeSvC+Fg98d+OrRpPwhmYkXgDb4rnmev+BYwE8bPHQkM5dgAVqct4CbNTNvShlLGoYl86AM1d5vRdYpunaPLiS1/8iOS9oOhYN1wfi4XAxnCvjIZDN1wfgYUCxv38wYeWw6fpiwOdr8A6na0VyUOX67NTzr0teBpr4FfLaJak4cx+4eupaNTn2ILECceDNppLb7kfGMjC6cr5N072HIjkvATZrcf2b+KA0hjO5UnAT/wrA1rj105qxbXbgSq6+i4fVXYGvRj6Ke0/+K1xbquZv74erWg7FJ12TKMWm5sVXt8fhE0Vnh/b2R7jp+WFtltZcfYxr8fDStfHw/d+F6wOIXKHFJ8dvAnYOvGuH85uAs2PT2pF75nJCkvDl5NoecH0BuYrRChYRe9/EIzyGeS0z+1qitK2AG7z2x0M6h1mY9arJuyC+eFJnxqzB1dHv/6MESSvjs/KPNV1v7D/5Q9+kbOaQtKqZjUjIl7IMDAZesLAqWbm+GF63/KXudxR0DpRIyTE3OqEMyIUe/mK+6le9vgywvZlF+xgWdEEJ1HcrXAvh+hJJ+wRy9cnTcaP7pduRV65AvCvT9tuut0QqnKE8/YLEzyAVQn/6SGBFYDRwoplNDs9lBTO7L5J3c3wyYzF8EvJZ4IY6dWzHDuaUSe5fiSXEJS2PZ9Yp+CznD3ExhUfxfWjj66T3o4rQ2J6Mr6a9jheIefEVvyPMzRhTfE9tmXNJiwOn4AX3FuCURidBFSGbmt+RpCMj6VV8Nuoy4A5LUEGoF+wO5EIa75mHBaXmrpUHQsjuNJeA63E1Q8UO6iplYBN883SWMpACkvY0s9+F88XwPVmr4rPpu1ukVHUT7yBcsKA27wy+b6yZ9VglMke5qnAnbQuVST4+U92SvQykHCTmQup+Swv+JFYaudrCbspALZsi9ZLtS0EaqJesb9oWsUt6fXngsw734puJfxrOf4irLp1Sg3cnPAOMwpeX16jcixIqwEMLtwK+givO7YI3OFsRGbYVePesnA/CQ8teC89iuYSck+pwBq7l8Yr7Jjwc8sKQ1gfw2Y0Yzn/gS9OzVK7NEp7vfZGcZzYdZ4V0ngmcWeP33w58C/hs4LyXrs3EdcQPBgOX46Egj9EVWnI5sGQk5wRgf+DvuNLSGdQ0ywbewkPALga2IJ2h7yfwQcHreNjxxHD8mBbhh32VB/CJnHvxkJLG8Vb4944avz95GQgcOcprVQDkSmBfPNRm25r1YHJeYLtuju2BlyM5k5erwJu8LQQeIhjw4kqOV+N7c39HPZGGHHVLrjKQvG4NvCtVzgcAR+OiVcfTwvT4A3Lm6LdcVznfGt92cEF4h7vX+P3J28JMZWDf8Jufws3I7w/5fwKwV43ff20oS3PHcnTDu3RI33H4PslzQzm+Kja/hnp0T1ysZDQu2nU5NbdihDpg4XC+LN5HnhSe8WciOb+BG3v/KpSpo3HFyMeBb9R8X1/F97kle18z+L7fRn+2NxKY4QePwwdEc4ZM0Gh4BhAZdx4+n1sd759N91Ip2aXqxOTqcCUf0DIDBbwZ3ZsJZy41z1FNf38t5OFlauaBHAPaah4YDHwP9wd7Ajg+krOxwX1vfILgpVDRbhD72wPvHY2GBe9s/wL3LzsutlLMkQdwm4e7gC0q156s89sDR/IyED6bo7xW81VzeagzoZGcF3gXH8Be0OKYnCCdScpV4EreFpJBfTjXM8hYBnINEqvP4Ochn20Q6q6LIjlz91uSqGU30tr0d+22MFMZyKVm+hw+OfIq3sfaFpg1lq/Cezc+6DwCH8QdimsV7EXkhGGo736M70M8Hd87tyk+SK6zD21c5fwmYNtwviHxiq4TgPlbXF+Aeuqjyd8XsGA3x0K4IXkcb91M1BcH+eT+k0uIM61s8H6tfkckb45OTK4OV/IBLT5DdA6+efoT4VgzXLsykjO5zHngGAfM3nTt8/hs7ws1eHMMaFu+Z9ww+pi6+Sr8XdvuIPA0y/E/WDl/pM3ywNx4h+0qvCObgjN5GWjOAwnL67/oWul8jsrKac16MDlvqPM/3c29WHuO5OWq+htJa9GSXD4+1zPIWAZyDRI7wvqEfFYaydvCTGUgl+1LLsuHHPYMuayactip5LK+Sf6+yGSj0KnWBLnk/nNIiP9S0txm9l8zO6dxMcjm1hESGCQ3+RawSEWiHHxGql04YVoZ29Oa7s1KHL6Bzzr9hK5NpM/gaplRhq6WR+YcPI+uia/ONL7rL0H6uM6G9wclnYPvE2rI7y6OryLFGU966N90MJfn/UkkZw67A4CXJX0NX6HbHg+JaYjYRL23XHnAzP4LHCw3DP093jjURfIyEJCjvB5eOR+OD24nhX0p3Rk/9xXvQbhScCtsG8mZo1xBnrYwh3w85HkGrcrAs/i7r1MGctSt0HvWJxsC1xHfb8llpZGjLcxRBnLZvhhksXzIYc+Qy6opuZ0K+eyfcryvLDYKnSyAshZeB94XlKC2xTPC1RapkBjU8d4ws382XW87dTxJuzVdusHcA2cgcKBFCDbk4Ay8+wJ/CB3a6vVlgf3N7KAY3pwIA4Kkap6pERrWvZhWFWlqZ97M/teHyZsKuYfMnRl4B+NywSvis9yHh47MQnj45TU1+bPkgcA7j5l1N2DoU3Rief0oI0dbGHizqA93ArqpW6cOEmPrVkkXNF06wsxeCm3sH8xskwjOXlP1VSK17NRIXQZC2/K8NYn9qL6a6d1mtn7MZ2fCuwm+Gj0F385wMG6JMy+wt5ldH8G5MR4G/DY+mb+Lmd0fxGAON7Pv1Ujv7nhY6DL4St8z+OTDSWb2eiTnAsAXmba8/tlqCBfleF+SvgPcY2ajW9w7wMzOiuLt1MFcb0EJJMQlfRFXsKyq7FxvZrcmSOJHFuG5DsKlnp+uXJ+qcFeDu1cUzCT9yMyOzfkddSHpDjPbuK/T0akIg7cd8bJ/Na7AujW+t+XXOTrInZCvGqiTVkkLW0UyPKzUDsH3jZxriRq4umVA0mm4AfHfU6RnJt+VzPZCiVViQ6TL9vgq13u4uMh5zROoPeDrlfffaWh+Lu2M0r7kgRLYM4S2q6Osmnqr79ZuSBFC1laQNLbGZ1dtOlYDbpC0iqaXF/+gnKfj5oh34WEEp4TzAyWdEZvWmXznj2p8diNJZ0u6XtI1kk4MM/J10iNJO0naMZxvIulMSftJisqDko4HjgI+A9wh6YDK7f0jOQdLulzSy7iy0jBJ/wrXlozh/AD4Zg7S2DwgaUzTMRZYp/F34mTWKq/h81+UtJeawjUl7RnJ96qk80Ie1cw/8YHwSzws4+t4qMa38JDA9fF9dDkQna8knSZpnZSJmQnqlIGpYS6Sjsaf8YN4eE1ziOgHQqYy8HXgDElPSzpZ0iqRPM1pzdFmfULSRZJex1Vox0maKOnHYbUnNq0n4mGR9+EiM0/ganNXycPsYpD8/QeuhZv+/lpos/ZJWC80f+emkZ/bXNKTku4J730ccL+kZ+UrNklRs4+VvGzlqLOr7YekQZL+Kuk1SffKwxmTQNJSkraTW1jV4RksDwFt9Lf2AI4B9pYUvZ3KHNXJkuPrpLM71OWt9N3+ReK+m6R55au9zddXiuT7cuNdpURHrsxJ2q67W/hM9yKRvFPwhqYaQvG5cM1iZo8kPWpm0xX+UOk8amafjEnrTL5zopkNjvjcicCiuOLgNviGzEfxULPjzeyqyPScA3wM32/zH3xZ/UZcpv4lM/tuBOdY3Mj2PXnox6X4xtqDJY00sx53liT9Axe/uLoxmyVpFnxV5SAz+1xPOQNHd+F0wjdrJ9+7WiMP3IC/o+Nw+XwBf8MVraiugPaAM1d5PT6kawSutHh6I0RB0ggz63FnVtIEXEzjK8CS+EraZRZpDho4x5rZZ0JH+EVcee6d0MiOtAjfssCbJV/JJzOeBhYBrsB/f519QjnTOrWsSxoBrGdmb4RnPSLm2WYqAyPNbBVJn8QVEXfB97Jchj/fWJ+9HG3WHcCxZnZnKLvr4VLfPwA+Zmb7RKZ1qkdfyPt3mdk68tW/v5nZpyM4k7//Blej/giDxPXwNuZLuOLcwTG8M/nO2Dp7FF5fzY/LyG8Zwg1XwEM3Y+rBXHV2jrKVo86uvv8r8T7RuXhExf4x4bCBa6qXnqSt8f7GncDawAlmdmEk70PAEDN7U9JJePjidXgUCGbW48lNuX7CNJfwyZKLAueBkWlNzpux77ZT4P0XHmq6u5kNC/di+xhvAW/g9j+X4aGgtc3to1RT+vogg3R04E0uIQ6MwQtZ8/UhNKlQ9ZD3P90ck/GwmBjOsZXz/gSZWHzjex3FubHh3wHAvwnSruE7op4BTWpKeMfofFwtcFwkZy4Fs4nAot3cq6PmmDwPBN5t8Y3jXw5/11JezFhexwL9w/n8uNLUL8LfKRRdk1kzVM5vbbpXR+Y6V75qKHh9EvdrGoeHhB5DvIdlrrQ+gpsZr8b0qnN1nm3qMjCdqiCwEnACTYqhPeTN0WYlV4lt8AILhvPBVCT+a9TZud5/tcyOIPhM4W1YnXb7hm6OG/H9+rXyVnNZin0GuerswJ2tbCWss3tD2Tul5UNyOxHyWTXlsP/J1XfLYvtBBqumTlWzHAOcamYPNd+Q9PlYUjO7WtKtwE/DMvWhBDWbGtgd+JWkefBMDL5f4D/hXixew81BX2q+oXhFnCmSFjSzV3GJ51kAzEVQ6oQvvBd43pU0zMwaqkjvSYqdkXhc0gZmdlfgeh/YS9Jx+J6MGORSMLsIWAIvtM24tAZvjjyAmf1Rrgr1U0nfJF7BsIEs5RUfyDXy1muStgJ+K+kq4tM8NZ+bq02dDJws6f/w1ZQYvKguRdvNpn6Rix68E8kJ+fJVQ8HrMVwJ7KchpOQr+IA5Juw6V1pfoCuc7lVJH7cuEZz3ZvC5GSJDGZiu/jSzMXjZ+EEsaaY2K7lKbMDxwMiwkrI8LoCAXFBhOjGAD4gs7x+YQx4K2w/3mnsDprZhdWbR18O91f7bdF14ZzEGr8lFi+bFlVwPxj2xPt/iez4octXZWctWwjo7l7J3tWz2N7MnAczslbDKHotnJG1sZnfg5XVx4OlQDmKxAl7/b4YLnjwn6Rgz+30Nzly8ufpus5jZCwBm9oB8z++fJA0ivp418/185wLnhn7ATsCJkgaZ2eKxrB134BXi4G7urZ7oO1bBpZRfTsQ3EJ89XJ1gQFmT7zharPiFeydFcu6Mh1fdhs+kbxmuLwJcWiOttwBzd/NMHojknIPgJ9Pi3mKRnLPiHYxb8VWfh0La98NlpJPk31RHjjzQgmdl4Fs1ObKUVzykaINunsuUSM7TevH9zYWHrfV5XmpKV/TMc7sc+ETUnIm4UpSB6eq/DL85SZuFr25cGeq/S+iamV4I2L4m94KhDZzO4Led3n94jtWj+gyG1+C9Bdiom3t3R3IuDvwGn90fiCsZPoQbMq8QyZm9jxW4UpSt5HU2XStGjWOBcH0gkat94fPv0xU98w5dZuSzEumxVskDQ/EVzxtxv7078IHMJjWfxWqB+zDgqYTPOBkvmfpu+OrpMk3X5sFX1P4Xydlt+0rw9Iw5OnLPXG8hzETWkhCXSxy/a+FBh5H9qnhYSdupWcqVgJbGQ39ey/xdc+HhK/+K/HxjNrOqEvqAtWGmVhB6MbMpIU98Gq/AXu3blLVG00xk41pbKaRJmgPAzN5qcW8xM3uu91PVGnKp6/+YryAuiXdoH7EWM981vmNuXEr+iTplt7GKmCpdH+D7ljezRxLy7WcVT88aPMnKgKSVzFfisiJFm9WbSPiuVqeikJkyPzV9Tz/c9PrNHPwfFXRC+9KbUCLLB2WyEwn1Si6bnra1gFIGuzLlsmpqw35vLaimJLcS2whIGo17Xk2SdDgeL34zbmg53MyiQ2wCfyd2OGp3OiV9AfdVeQxodNoH4SFg+5lZrPlmd99XRz59G3zmdAquZHgkvgF2OeDbZnZjojSmeK4b4YqLs+GzevuY2VPhXuyG32yy7L00SKorS38EsC8uUnEqPhP5d1yo4nwzi1VdPMfM9gvn6+Lhio/jZWBfM7s5Ns2Bs1c6XIoUfgifbTaxFh62eDxAzLPNVAbexwWlGoInD/eUYybpbXu5/0zvagPg53jI+Wp4uVoA3/P1dTOLCjefwSTsw2Z2SwznDL6rdpnqpt9ynZn9OZJvQVwV+nl8L/qRwFrAeHxlKkr2PUfZqvAmKwPdfEexUOhA1B0T9AaUwk4mdkmvXQ9gYo3Pno4PtHbB1ZXWDec3A2dEcj5UOR9OCA3EZ07qLKtvhM+8vIyHRS5ZuTfdZvsPyPk+8E88nnnFhO/knMr5ungI51A8tnmLSM7x1d9cub4UTeIobZCvRuLhGUvhIRb/F64vQb2QnRzPdRjwqXC+A94ofq7xOyI5Xw55/2l8P8Mqid7JEXgH+RFc3v4RvOMxDjgkknNM0zEWH4SNiS2vIT1z4CFak4FFwvW5qCcsVN2kPxRYNZwvXTNf5ahbzuzmOAsfjMemdTKuuPkjXKDlGDzE6BjgmEjOHGVgJL4a/7NQx44O+XfJGL4K74m4KMXXcBW/U/CN9SOBHRPkq6OBP+OhZlcRBIba6F2NrJSnpYA/hvNNgdtqpHU0XaF1h+PhVkcDtwMn1uDdPNRZ9+BhsePwCZhniQyHI0+/5WbgJOBXuNriWXjo5bH45Hbs789RtnKUgeTtQOBdHLgcV/A8EhhQuXddDd5XgfOATQiLNHUPfF/rLXi47jK4IM5rwANEhu/m5J3B90X33WbCGyvet2rTsVoo/6sQ2vAo3hw/MvdBPhW/R7u5LiIVcUIj8OlwfmulgZideh25TupwJO90ht/bv8X1WYlUh8uYr6oKVg813YvqHGd8rs2KcJ8CJuAryrEd+eTqiIEv+SAJV5a7JDQ4S+BS18+E8yUiOceEf2fBJY6rSmOpBnMPNt2ro7iWo26ZDOzD9HtRdgNeqZHWwXgH7iTCHinqq+PlKAMjmv4eggt3PAPcWyOtyRWIyafkmONdjamcz9JUJqIUMsNnc03CjsIFINbClZ0b5WqFGnkrR79lVIXjuVb3InlzlK0cZSB5OxB4b8ejcz6LD5DvxU25o+vW8NkJ+Erq3/FIpTMaeasG59245c9X8InYXUJ+2Ar4azvxkq/vtl03x/ZE7k3GI7TuZdo9uW+Ff++ITmudl91XB/lkrpPbCODy06NxNbeL8Fm43+ENxK410tpJHY7knU48PGck8H1g13B8P1z7QZvlq5GEDnw1f+Gdj7bqzId8ObDp2iC8ExIlSd0qP5JGlj3XICm1dPaFeAjk9XiY3cXAV/FVxCtr8L5J16zxZLomivrV/P056pY7gLW7ufdknecbOLbGOzI7JHhfOcpAy/KId2I2qPOu6BC5/0zv6nehHO2Kr/qdFq7PST0bhVyTsDlsBHL0W8bgg6HBwOuECV184uzhGM7w+RxlK3kZCJ9N2g60esf4auI4fIUq1cRuDkudf3b3fe3AS76+W3KLDjLYyZh1rjVBLpnrPYBzlNBGwMzGSFoV+AK+n2l04D7E6gmMvCtpoJm9GL5nnKRNcIW/6dzqPyCmkc82sweAByQdCqxfI63LSxoT+JeUtID5HsJ+RMr8mtkJkq7DOwZrBe5nga9a/H6UXPlqH3zF8O3wTBtYHA8RiUXy54qvxC6Km1sDYGbPhr0p+0dyZpFlB0ZIuhRfifsr8Psg074xEL0nydJLZ38TNy81fGViCN75nAD8sgbvCk1/N0RLFsRD2WKRo27ZAXi71Q0zWyqSs8pxvaTbgZ/QVXfHorsysCHwnUjOU1pdNG/J74rkhM6S+weSv6t98ZC6tYG/4IM78LL2xRq83wL+EPa8/wsYLukufBLq+Bq8OWwEdie9/dEJ+KAeYE/gPEkGrIi/t1jkaF9ylIEc7QDAAEmzm9nb4TsukfQiHso8Vw3eHPYMs1TOm/ez1nkWOXhz9d2SW3RYHjuZD58ASgrIfR8WIwwQGp2adkLISC+b2eim6/MB+5vZzyI4dzWzOhm/O94lmi49b+7XszCwvpldm/o7Pwrorecq6WMWqTgaPp9FHVFSf6YdJK2Jh25MBH5pwRuq5nesjCtt/bouV2+g7rsKHMnrlk6HpIXM7N99nY5WUC8pEH/UlBwlzULXJGxDHfDPdZ6xpMXxvXcG/Bivr/bCw80OM7PxNbiT9lvC75e5H2x/PDTwOQu+W+2E3GUgVTsQBu8jLPjjVq6vApxsZptG8p5mZs0CQ7UQJh3+0Nx2S1oWbwcOaifeHJC0HvB0GCA331vdzIbX5P8s8As8CmCRWlydOJjLpTSVQ81R0mYWlDBDZ+g0YA1cGexga2H4XFAPkm4xs80TcdWWzpbLZp+Cx7L/AJ89HgI8CuxtZqNqJzQRQqM4zSXgQTzsShZppSB1ho1EpjpgXvy9DwJuqU6YVBUpI3izvKscyPUMZvKdUfWApBPx2dhXQtm9Et/nMAD4RnNH7ANyDsT3iE7BV00PwPddjAe+W6eDrMS2Jxnb11b14Br4nsx9zKzH5r7huf4Ir1OSPtdOwQzeVy37o9T5KnAmrwdy5Ncc7UBB30CJrW9SI/SNatvJ9EuUnt7GMGB+ALnc/89wIYRDQkMci5GS/inpp5JWTJBOmDYk4+d4CMtW+G/4TaLvmAaSYiuw1SUNlXSJpMUl3S7pdUnDwsxRbHpGSDpaUmyIVivOVbs5VsNnEGM4D2k6DgWObfxdI7nn4GEPN+F7MX5jZvPhISe/iiXN8VyBV/ABQeMYjg/ARoTzHkNuI/EYPhO9BbAlHqrzWLgXBUlrtMivr9XMrznqgAvwgdY1wC6SrpE0W7j3uRq8yd8VeIdL0gmSLpa0a9O92ImNLM8gRz0AbGldUvGnADub2bK4QuLPIzkvxEN/n6Frw/uWuKpd9Gy/3PbkBeA5SVsHvlOBMZK2iqTN1b62qgfnx+vB2Hx1IT5wS/1cc9StDe6NJJ0t6fpQDk6s+T3dva9DJZ0QmcYc+Qry1AM58muOdmCGkFQnNL4V3x01P79tY8JQ0iKSLpI0VtIVkga1G+8MkNSmqoHY9yXHTpJ2DAO5jYHjJO3XmECJQt1Nd31xkE9pKrmaI9NuTG3e/FpHFapZ3rQqc/pCJOcDuHTyV/DGcYdwfRPgHzXS+iTeEEwM33Ew8ImaeeB9XFRhaIvjrUjO5NLZjXxVOZ/Y3b02ea6H4Rv+P1P9npqcWWwkcuTXTHVAc7k/CheAWIh6G8mTv6vAcQ2+l3MbXNXtGmC2cC92g3quZ5CjHniEoJRLRUwh/B0rKDGjOqBOO5Dc9oSM7esMnkG0AnOm55q8bg28OWT0k7+vHPmq1TtJUQ9k/P3Jlb1n8p117I9yWOo8XDm/IpSBQfg+zNtrpDU5L5msb3K8L3zi6mq6FFOvAr6BW1ZEWYmYWccO5rIrTYW/a6s5EsRO8E2OT1DxAIktZOGzOToxuQYd1QHteiEzvxjSuk8k50PAJ7u5F6VeRAbp7MDxD3zvxY743ohtwvUNqNcwJn+ugWtQqGBOA+ap+wzIYCPRnCdT5ddMdcB4Kkqb4dpuuIrZ0zWfbdJ3FThzdLiyPINM9cAB+Gzuxvhq8um4ANRPgIsjOUdXzo9rupdqgJTE9oR87WvyejDjc81Vt+aQ0U/+vnLkq/DZ5PVApt+fS9k7l4R+DkudCZXzZrXsOhMlyXnJZ32T/H016gA8bP/fwKzh7/7UsX6J/WBfHuST+08uH03XCk/jaHhhDQQuqpHWHJ2Y7IOOyrVZgM2ACyJ+z1UgAAAgAElEQVQ5dyDMFra4t03N/JVMOjvwrYyrVd0SKtszcJPMcXQj195Xz7WJayvgPuDFmjzJbSQCb47OYY464GTg8y2ub0akD1SudxW4cnS4sjyDXPUAsCE+azwSn+W+Ge8sDIjkOxaYu8X1ZYGra6Qzue0J+drXVvXgpJCv1mmz55qlbiWPlUTy95UjX4XPJ68Hcv3+bq7XtRLJIqEfPp/aUuc3oXzNgYeXN9rXjYC72omXTNY3Od4X006U3Np0L36QXOdl9+URKpXNge/iq147A/PX5IxuqGbCOwRYI5yviK/UbVGTM3knhnyDjst7KU9ED45bcM2Fh8DcnYDrQGDxDL83+3PFZ6WPBr5Qk2cFPEzlLODscL5iTc7k+TVXHdDie5Lk1fC7NwHmDo1jY4Z6sxqcOTpcawLzhfM5QmN+I74KPl/C57puqF/r5tdqnf2p0MbUrbNztANr4AqTzdeXBL5Wgzd5+xp4lwUOD2X157iMfLL3H76jdtnKVbeG5/g0vvI7Ed+fCbAIcGm7vK+M+SpXW5j69+fqCx5HC0/AcO+kBPxz4SuIN+CKpnW4BuCRCRPDMQVfkboUGNxOvLgdz5yd8L7w/kqrCaiBuChcVFo7Us2yFZRAkjsHJB2DVzL9gdvxTs2duK/Mny2DzLekPczsgnbnrMMr6YbmS/jMzh0AZvblBMlLAkmvA2/gM4aXAVeZ2cuZvzP2uT5gZkPC+d7AfsB1+ArYjWZWRwCh15Arv8YgV16VdCDuezYeF/v4rpldH+6NMLNVoxPd/XfG5qtxwMrmMue/xQ3Pr8YHoiub2XaR6WnOr98B/kiN/Nqizh6Ce8FF19m92Q60cVt4IPAlfPVgC9woehK+orCfmd0Zwdnr7UDdukW9ZCXRjuiLtjAV2rVctYISW+rIldj7W2J7lly8gbtj3heApLmAuaLTnHok2xsHPgpvPp7C484XrMG7Oh4Tfwluunk78DqulrRKJOdYfNZoTjzWdt5wfQ5qxPTP5DujN9L2JmcdXjwM5BI8HGqD8O8L4XyDSM758A3qjwCv4vHM48O1OrN8I3Hl2C8A5wMv47H9u+GStG31XCvnw+gKC56LePGHzSrn8wHn4RuzL6WbEIa++v0z4bylxvtPmlcD71jCDB8+Yz4cH9BN8x7b4blSEbph+v0otQRAKuep8mvyOjtXO8D07eBC1GwLW5TX81OU18YzCOdzAneG88Gx+TVX2ZrJdyarW/AV9VWp17606re8Rr1+y9z46vk4vA/0Mh7GvXvN35u8Lcz0+5OXqxZp3hYPj18+Rz6tfFcUP7BSznQlTmvW95UyreGz/egKY5411AG10tmfzsQreKhCFQ1JbsNnvWJwDr6vbX58U+3BZrappE3CvbUiON8zs/eBNyU9bsFLwszekjQlMp1I6s4DRcCi7cKZkXc1PKTiKOBwMxsl6S2L8ICq4Ep8RndDC4arch+j3XCRiShDT8DMbAoeWnObpAF0qTCeiofY9BiZnms/SQvglY0szJqa2RuS3ovkPB5vsMFDq17EG7Ht8Pj5bWJIM5WB7lazRLzUfY68Ct4x/i+AmT0laUPgarmZvGJJM+WrhyorGqMVDFclLQe8G8kJefJrjjo7SztAnrawubw27HRqldeA/rh412y4YA9mNjHUiTHIUrYytoVTvdQkrYsPkB8HlpW0r5ndHEGbo9/yB3yF+4vATvjkyOXA0ZKWM7MjIzghT1uY4/dn6WNK2gAvU6/heffvwAKS3gW+bmbPxPDOBLfhEyY9xUhJT+IrqJeZ2cNpk9USsWnNNSaYEaLSGmw/fgNMkfQt4Eh8tXo5Sd82sxtjEtORYZaSDsPDUw43s7Hh2pNmtlRN3pFmtko4n2hmg1vd6yHn/cBGZvampH6hImssLw+1yFAoSS/hFe2k5lu42tIn2oEzJ2/gHgT8AngJ3/gbUxE0uCaY2f/19N4H4O0270iaw8zeiuTNkQeewmPYhVeCa5vZi5LmBu4xsx4PaKohf5JGVTma/+4hb47f/z4eUtdqMPQ5M5ujxwnt4k6WVwPfHcAhVjGdl9Qf3/z/VTObJZI3x3OdD98ntR7e8K6Kq609AxxoZqMj0/oU6fNr8jo7YzuQvC3MWF6/C+yFr/Csj+85uUDSIsA1ZrZ+jTSnLlu52sLqsx0KHGpmIyQtDVxpZqtHcObot4w2s5Urfw8zszXkPlgPm9nyPeWcWXpi28JMvz9bHxPfz/uypKWA08xsW0mbhu+K8l2VdGZ3t4DdzGzeyLR+HR9o74wPOC7D95M+FZPOwJsjrbneV67nujkelTEa30c9IUzCXhNTBwCduTJnZqdKuhz4haRn8FmZFKPSt+UmxvMBJmkbM7suzKa8H8m5vpn9L6S7OgM7AF/xicWf8BCrUc03JN3ZRpw5eTGzZ4EdJW2Jhy/VwdOSvgf83sxeCulbFPc/qTNjtnN3N2IHcgHJn6uZLdnNrSl4WEgMPiY3XRcwryRZ1yxSvElmnnw1HtjXzB5rwVlr1jRxXgX3pplm9cnM3gO+Iek3NXhz5KvXgd0lzYPPkvbHN+i/VCOdufJrjjo7SzuQqS3MUl7N7AxJf8HFkE4zs0fC9ZfxwV00MpStbG1WBfOa2QgAM3tCUtTkC3n6LW9IWtfM7pGbhL8a0jlFUvSqP3nawuS/P2Mfcxbr2iM4EbcOwMxul3R6Dd49cOGX/7W495VITjOzh/BV76MkDQF2Af4m6RkzWzuSN3laM76vHM8V64r8mmhmE8K1p1XDNLwjV+aqkPRlfJlySTMbWJNrZVzJbQpuZPhtvMP0PO4t8/eayS1oY8jDtY7ArQkaoTQv4spQJ5nZq32Vtk6GXPyhinPCzORA4GQz+0ZfpKsVJO2A77Wa0OLeNmZ2XR8kq6Bgpgid7qOo2RZ2UnntNEh6EzehFr7PdbCZTQqduDFm9ukIzlb9lt2A54C9zezeSM5zgeVwG6Q9zezRsIr6FTPrbsWi1zGT31+735aqXAWu3+GDjL/i/YznzOwQSXPie4ljVzzvAI5u9a5jV6i6W9UMg/n1LTKUOUdamzhSvq8szxVYLUyMDDGzB8L1WXDfzB7XAfAhGMyBL8/jcsQ7JuBaE5hiZsMkfQqX4x5vcbHsBQUFgKTl8Rj2+y3s8wrXNzOzW7v/ZO+jk9JaUFBFaAuXCTPqdXhKGciAEEpVxQtm9o6khfEO8rV9ka5WaOoLrYj3hR75KPaFEparAcDeuDXJaOB3ZvZ+4P+YmTXv+/qgvAsCb5vZm3XS18S5q5ldmoqvwps8rYF3ap2Fr8guY2YP1amzMj3XNfAJ47ebri8JrGtml0TxduJgTtPLEQNsTH2p7+SS1AWdhVAhbI1XCoavyt5gZuP7NGEdDEkHAPvTixL6sVAfyP0XFMQidLjHm9l/QofwCHw/4sPA8SG8taecHVNeC0DSrHj42/Nm9hdJuwJr43ngXDPrscBQi75QdkulOsg9+SAXqxmCG6bfVpevIC1Ku925g7kReEV1Ht7hFr4xcxeAGsu/Y/GMMBseXjeo0kjeb2YrJUh+QZtC0vfxOOjLgWfD5UF4vrrcOsRjrd0QytVaZvbfMPt0NXBx2EMTtUE9FzoprQUFyuDfV8pAPlQHF5Lmx5UN18BDGQ+2iD2kkv6AD7rmxFUS5wauxfOAzKzHezI7qS+UoyOvDP6VH+A7bzGzzSM/W81X8+HG4XXz1erAKXi46g9wYa0hwKN4+OrIyLSOwPPnZWb2eAxHC84sdVamtM4NfA/YHu9fvoMr2v7azC6M5e1IARTcoyOH1Hcu+eiCzsBewKeaZzIlnYb77ZTBXByySOhnQieltaCgn7noDcDqlY7rPZKmE+/4gChlIB+qtg+nksb24TNmtpJcyfY54BMhdO8SPJQvBp3UF9ob34M0tSMvaUkzO4P4/Fq1ytgH2DTsGz0VV2ON6gsoj/UN5LETyWH5AO79Nj8wVNKL+ELMFWb2fCQf5KuzcqQ1i+1HHSW5PoOZTTGzX+BKM0dJOps0A9N3wkZUcA8QYOpMR7tVYAXpMQVoJTn9ccr7r4MXJU1tqEKl+yVgYeAzfZaq1uiktBYUPCRpj3A+Osymo3r+faUM9A5WN7Ojzezp0J9ZMpKnXwi1nAdfnZsvXJ+NaQclPUEn9YWm6cjjxvGbh0nY2I58P0kLSFoIpvWvpElBuIcYhg/if950nIoPGlIgVb4aYGa3mNlluLLl1fjJX4HZa6RvkpkdZm4hcSjwSWCEpKGS9onkzFVn5UjrkmZ2oZk9a2an4VYqj+HjmR5HUjTQqStzQBY54lw2AgWdgYOAv0p6jC4rgsHAsvgekoI45JLQz4FOSmtBwTeBMyQdjfv3/UMuzf1MuBeDUgbyIYftw/nAI8AseLTSVZKeAD6Hz/jHoJP6Qi9K+qwFG4mwQvclPCwwtiM/H/Ag/p5M0kDr8q+ss9KTy/omR77KYXkxDczsb7jVwQHAprh1xW8jqLLXWQnTmsX2oyP3zBUU5IJcInoIvpla+N65YSHkpKCgoKDtoMT+fQV5oEy2D5I+AWBmz4e9eJ8HJlqQPf8wQ24Y/54F766me+tYQkupsFq5qJk9Gfn5LNY3OfKVMlheBN7LzWyXmM/2NnKkVdJKuN7H/wFjSWT7UQZzBQUBkuY3s9f6Oh0FBQUFdSFpbqso+xV8dCBpQSu+qLUROtiD8FWfJ0t5KmhXlMFcQUGApPdw+eXLgGvKwK6goKBTIWli2OtR0EaQtAywLbA4Pkh4DFfL67GNROA72syOC+crAtfh4ZACdjaz+5MkvE0h6TO4wfliwC3A981sUrg3VZWyh5wrAmcSjN2BkcDHcKuq78a+qxbfk8zyQIltlZTB8qKb7+kY24dUaVUGK42OFEApKMiE8cDpuGfh45Kul7SLXI65oKCgoK0g6ZBujkNxifqCNoKk7wK/xgUk1gDmwAd1/wgKfDGoiiacgg82lsKV8n4Rn9qOwa+AH+P74x7FlVyXCfdiBWB+B3zHzJYF1sXN0pcC/o7vUYyCpAcq53sDZ+PCNcdIOqIG7/fx/ZECHsCFVgRcVoP3AmBL4LuSLgZ2xA25h+BhgrFpzfIMciBHWuVWGtcDB+ACVltXbh8fndayMldQ4FDFkyYM4LbCZ6Y2wI1Sd+3L9BUUFBRUIeltvAPfSmHvYDNLpZBXkAAK/m3BOmBO4GYz21DSYOB6i/DDamq3pvHUav77wwhJo8zss5W/N8KFKb6O7x2L8ZkbbWYrV/6uPuOHzWzFyLROfR+ShgFbhL1tcwH3mVmUYIukR2ltqzQrMM7MPhnBOcZaW14IGG2RXoO5nkEO5EirMnnidbSaZUFBYkxVEjKzt4ArgSvlcswxPi0FBQUFOTECuM7MHmy+ISlWzbIgL/rjaoCz4bP8mNlESbGrSEtLugFvvwZJmtPM3gz3Yjk7CZI0XyP00cyGStoeuAZYMJLzcUk/BP6Kr3yOCl80gHr95n6SFsCj4qaxPAjbPGLRsFV6uul6HVulhuXFXHRZXrxKPcuLBm+OZ5ADOdKaxROvDOYKCrrwh1YXQyPx+15OS0FBQcHMsAfw727urd6bCSn4QDgPGCbpPmB94CSYKrQRK1iyddPf/QLnongI4ocdJwEr4GbeAJjZGLm59Q8jOfcEjgzHaOC74fqcuAx+LHJZHuSwVcpheQH5nkEO5EhrDiuNEmZZUFBQUFBQUNAbkPQpfPDxkJk90tfpKeh71LU8CBzJbZXUi5YXKZ5Bb6FOWpXJSqMM5goKAkIB3R9XgjoL3y+3HT47dWyRJS4oKGgnSFrJzMaE8wHA9wlqa8BxlXC7gjaBpP7B0Jgww7888ESslYCkpYGjcfXCE3HRk7VwQa/DzeypFOnuREj6rZntE/G5frin2vZMqzr6azO7M3EaO8ZGopPSmgs5nkEKzqJmWVDQhQuBRYGlgJvwMKVT8Vmuj0K4SkFBQWfhwsr5iXhY1c9xlcRf90WCCrqHpN2BlyQ9KmlzYAweJjha0lciaS/E1Qv/i4caPgJsDtyKh259qCFpwW6OhYAtImnPB5bAy9RQvD9wPnC0pANqpPXoyvmKQbjkQUlPSVqzBu9Kku6T9Iyk34Z9Xo17UatoktaRNF7SOElrSrodGB6+Y612Smsu5Hhf2fJAWZkrKHA0VLGCWtMLwMfNzOqqNxUUFBTkQJPa2ihgDTN7t9RZ7YmgZLcRLnwyGljFzB4P+9tuj3lfTXlgGm/BOup4nQJJ7+PCH9U9TBb+XszMZo3gHFN9F5LuM7PPSZoNGGVmK0SmtaqKeRNwtpndImkIcLqZrR3Jew9wHD6Y/ya+l/bLIW9F5YEwsNoLtzi5EdjGzO6RtCpwlpmt0y5pzYUc7ytXHigCKAUFTQgDuJstzHSEv8usR0FBQbthPknb4lE2szWkyUud1bZ438xeAV6R9F8zexzAzF7y8XcUpkhaDhdrmFPS6mY2XNKyuHjFhx1PAJuY2cTmG5KeafH/PwjelbRMGGCsCrwDYGb/S1iuPmFmtwTeB1TPz3Zu6zKbPlXSg8Ctkr6OD2xjMMDMxgJIetnM7glpHdGGae0NpHxfyTnLYK6goAvDJc1tZv81sz0bF+UGpJP7MF0FBQUFrXAX8OVwfp+kRcPAYCDwSh+mq6A1Jko6AV+Ze0TSz4FrcWGJFyI5v4evnEzBLXR+IGllYF5g7/pJbnucDiwATDeYA06O5DwcGCr3cRyA759vqI7+KZIT8tlISOntGarbsH7QdK/Hq50V5EhrLuR4X1nyQAmzLCj4AJAkK4WloKCgoCASkuYFvoOvQJwNfBEPM3saF6yJHdA1f8/CwKQ6SoYfdYRQ5YXCSmoqzg2aLj0YpOkXBXYws19G8u6Ki+jc13R9MPBDM+vxoF7Sl4G/NIsohcnt7c0saqCcI625kON9ZcsDpX9aUOAIlddtZvZ2X6eloKCgIAaSjjezI/s6HQV9h49yHpC0FLAK8HCs9UPoC/zZzP6XNHEFBZlQBnMFBQGS3gLeAG4BLsMr8zKzWVBQ0JaQdGbzJeDrwEUAZnZgryeqoFtImgUXfRgE3Fr1lJJ0tJkdF8H5kc4Dkq4zs23C+dZ42OWdwNrACWZ2YQRnlr6AetFGQtKjZrZcKr5UnJL648Iq2wKfwFepnweuB85v7PttB0jaH7jczF4Je1B/B6wETAD2MrOHIjiz2MkUa4KCgi48AnwSuBs4FHhe0q9bLIsXFBQUtAO2w/eZDAceDP++G84f7MN0FbTGb4ANgH8DZ0o6rXJvu0jOj3oeWKJy/n1gYzPbA1gHODiSM1df4EIy2EhImizpP+GYLGkysEzjertwBlwMfBb4MW4dsSXwE2Bl4JIavDnw7UqY7RnAL8xsfjyf/SaS88LKeTI7mbIyV1AQUJWMDX8PBHYCvgIMMrPF+yxxBQUFBU2QNA/wU+Bj+Mz+c5KeMLOl+zhpBS1QlbwPKxTnAAvjbcx9kRLyH+k80CT1/oCZDanci5Xlz9IXUCYbCUln4Wqmh5vZS+Hak2a2VAxfLs7AMcHM/q+be8lXE+ugmlZJw8xsjcq9aewresCZxU6mrMwVFHRhGm1oM3vRzM40s7WAdfsoTQUFBQUtYWaTzewgfGb3EkmHUdr1dsZUFUAze8/M9gFGAXfgfl49RskDrNxYPQI+GwZeSJqVeGuGXH2BKZKWk7QGwUYipLWWjYSZHYCvHF0m6UBJ/agp85+DM2CSpB0DHwCS+knaGZiUgD8lrpZ0YQiP/aOkgyQNlrQHrdVTPwjmk7RtUPCcxk6GGs/3o1TgCwpmhm5DMszs6d5MSEFBQcEHhZk9CGwMvAXc08fJKegewyVtVr1gZscCFwBL1iH+qOYBM5vFzOY1s3nMbFYzezHcmhPYN5I2V1+gYSNxEV02Ev8E7gV+WIO38f4/H/68C5i9Dl8uTtzmYQfgJUmPSnoMeBEPF94lAX8ymNlR+O++DDgEXwG/FQ/B/WokbcNO5ksEOxmYuvobrZxawiwLCgoKCgoKCgoKehk5bCQkfRxYxcxubnPOhfBxSPHErImyMldQECBpcUmXS/qbpCOD0lDj3nV9mbaCgoKCZkjas3I+SNJfJU2SdK+kttl7UtA9JB2fkXtsLu52gaRXJZ0naZOw7ygFZ5a+QAjRmz2cK4TrHQPsHfZQJkHwK6y9NUTSwEbYKvAeMLukT6XiNbN/+5/aLgVvDkhaX1Jj39y6kg6TtGUNvi9Lmi1dCgNvWZkrKHBIuh24BleZ2gtYDdjKzP5dZ3NyQUFBQQ40iT9cCfwVOBfYGtjfzDbpy/QVTAtlsBGQ1J0KpoBfm9kiPeXsJEiaAJyFi5MsCVwNXNZsSt1Dzix9AUkPAUPM7E1JJwHLANfh4bGY2Z4z+vwMeHPkq32BIwLXScDuwDhcJfRkMzs/Mq1ZeHNA0um4bUB/4M/AJrhdxQbASDM7PIIzj+1FGcwVFDgkjTKzz1b+/hrwAzy++aqqulVBQUFBX6NpMNdcf5UJqDaDpGdxD7Tb6BLZOBU4DMDMfh/B+S7wB1qLJ+xgZvNEJbZD0FQGBuP7rnYB5sc9wnpsnp6rLyDpYTNbMZw/iCsZTgl/jzazlSN5c+SrscCauGT+08CyZvaipAWAodXn0w68OSBpHPBpPK3PAYuFgfgAfDD36QjOkfjgfQc8n34a+CM+AXFXbFqTLesWFHwIMEDS7Gb2NoCZXSLpRXxGZq6+TVpBQUHBdBgUZuUFLCJpQMV0d8AMPlfQN1gBF1HYjC4bgWNiOtsVjAFObWVgLOnzLf7/hw1TQyvNbCJwMnByCI2LFdTI1Rd4RtLGZnYH8BSwOPB02DtWBzny1bvBwPpNSY83hGXMbJKkOqtAuXhzwMzMJE1p/B3+nUL8NjUzs0l4BMW56rK9OFFStO1FGcwVFHThPHzGaOrsiJn9RdKOeANRUFBQ0E6ohvkMx+XtJ4UOwg19k6SC7mBmk4GDJK2G2wjcRH3tgoOA7kyct63J3QkY2uqimU3AzahjkKsv8E3gIkk/Bl4HRoWVmgVwtcQoZMpXUyqTQ1P3iIU9f3W4c/HmwE2S/oareJ4HXCnpPjzM8u5IzulsL4AzgTMlLRGb0BJmWVBQUFBQUFDQiwhiHfsBa5nZ1/o6PQW9B0krAMvhCyrPAsMa4ZYJuJPkqxCy+ryZvdd0fTFgBTP7Sw3eFyoRBEl4c0HSWvhq2n2SlsEnSCYCV8e8M0kbmtmdiZNZBnMFBVVI2gjYHg9/eA94DDjPzP7ZpwkrKCgo6AEk/Sh4mBV8iCFpQWB/4HngfOBIYC1gPHB8COn60ELSwlVp+7C/bQjwEHCuRXRyJW0L3GVmr0paBDdkXwV4GDjUzJ5Nk/qCTkNzfmsXtNuSZkFBn0HSicA3cAWrd4EngMeBq0J4RUFBQUGn4Jt9nYCCaaE8VhKX4Pu4VsNDDgfiKoFvARfWTHIn4LbGiaSjcRXHB4FNgdMiOX9mZq+G87OBkcDmuALhBbEJVT7Lg161KFENywtlsJLIBUmbS3pS0j2SVgmCKPdLelZSlFJwtjxQVuYKChySxprZZ8J5f3xmbp2gsvS3GOWigoKCglyQ1N1eKQFzmFnZF99GUAYriYbyYugYP2tmizXfS5T8tkRVtVXSCGA9M3sjdJJHNNr0HnJOMLOGt9iDZrZa5V70M1U+y4Mc+SqL5YUyWEnkgqRReDrnB/4EbBnCLVcA/hCjaporD5SVuYKCLkwJISsAnwBmAVdZomnTakFBQUEb4DXgk2Y2b9MxD/BCXyeuYIZYzsx+Y2ZTzOyPwIIz/URr9AsTjosDc0taEiAoJM6aJKXtjTnCqslqwCxm9gZA2JMV6991p6RjJc0RzreBqdswXq+R1kXM7NdmNsrMDgDOAe4Oe7FSraykyldX4FYMWzUdX8IFQWLxhpmdbWbr4OHAzwHnSHpC0vE1eHNgipmNN7N/AG82BpxmNp748VOWPFBm7QoKunA8MDLMHC0PfBsgxMyP7suEFRQUFLTARcASwEst7l3ay2kpmDlyWEmcADwSzvcEzgvRaysQr+bYSXiBrnDKVyV93MxeCIPZ92bwuRlhf+AoYEL4+2BJbwA34mGcschleZAjX+WyvMhhJZELr8lNzufFVYIPBq4EPg/8N5IzSx4oYZYFBRWElbmlgX+a2Wt9nZ6CgoKCgg8HJO3WdOmG4K81EDjQIgyuA+8seH/uvbBF4LPAc2b2kV2dDc9ktuBpVodnPqC/mf07QZoOxkM/72q6vgpwspltGsmbPF9JWg94Ogy4mu+tbmbDI9N6mplF2zD0JiQtDhyN+8r9BA+53As3Oz8srND1lDNPHiiDuYICh6RZcUNLC39vBKwKPGxmt/Rp4goKCgpaIOyVGgIshofpPA88EKPiV/DhgKT9zOycvk5Hb0Eud/8fM3sthJmuDjzSalUpwXctb2aPzPx/FhT0HsqeuYKCLgzDN7oi6XDgZ8AcwCFB6bKgoKCgbSDpC7h9yo+BLXAT3p8Aj4V7BW0ESQs3/f01SWdK2idW2U/SIU3HocCxjb+TJLyNIekI3Nz7PknfBG7FlSevyPT7b5v5f+k5JP2oxme3bez3l7SIpIskjZV0haRB7cJZ4f6ipL0a+zsr1/ds/Ym+gaQFJf1I0jflOFLSnySdEvappuA8qi4nlJW5goKpkPRQQ7FS0nBcFeutELYywsxW6tsUFhQUFHRB0nhgczN7qun6UsDNZrZCnySsoCU0rerg0cB6+N7GL+FKlAdHcE4GbgbG0bUf6SDgdAAz+1Dvm5PLxa8OzAk8BSxtZi9Lmgu4P0aFOuw/a3kL2M3M5o1N7wy+c6KZDY787MNmtmI4vwJXSrwK39v11ZjQvRycgesEYB1gBC6ocrqZnRXuTS0f7QBJNwNj8T1zK4TzK3Hbi5XNbOt24IQigFJQUMV/JH06hPxK/hIAAAotSURBVGa8gis2vYWXk7KKXVBQ0G7oD7QyMH6OeOGDgnyorr5tR5eM/qV45zYGn8IFQOYCfmJmb0ra7cM+iKvg/TDp+g7eXv8bIDzXWM49gEOB/7W495VYUs3ESiSWl6C8HbCsme0czi+UdFAbcYJPXKwS9nf+GLhU0tJhIqPdVMM/YWZbhFXzZ81sw3D9b3LbgnbhLIO5goIKvgX8QdJo4F/AcEl3ASvhSpcFBQUF7YTfAcMkXQ48E64tjqvCnd9nqSroDnMEoYN+NMnoS4qS0Q8CFTtI2hq4XdIv0iW3IzAiDIbnwv3Vfi/pVmBj4OFIzmHAQ2Z2b/ONMACJxWvAGmY2nfqspGda/P8PijslHYsrm94paRszu071rBRycIKLybwHEPY4bgX8VtJVtJ+VRsP2Yx6C7YeZPaV6th85OEuYZUFBFXIFrC8Ay9E16/3nomxZUFDQjpAb2G6NC6AIr7NuMLPYjmxBJkga2nRp14qM/p/NbPWa/HPieybXNLP163B1CsI2iB1x8Z+rcTGgXYGJwC8bA+Yeci4IvF1XCbMF73F42Xygxb2TzOz7kbwDcCuFxp6zQUDDSuGIVoqUfcEZeP8EnNJCzfE44Egza5soKElfIYQrA/vhdlUGrIivgv+2HTihDOYKCgoKCgoKCvoMSiSjX1CghFYKOTjlRuyY2Vst7i1mZs/V/Y6UUAbbjxycbTMCLijoa0iaT9KJkh6R9O9wjA/X5u/r9BUUFBR8UEgqdiptirDqMRVm9j4u4BHDtVnlfH5J50kaI+lSSYvWTGrbQ9K8kk6QdLGkXZvuRdkzSFpd0lBJl0haXNLtkl6XNCyEydZN8+pytcitJC1fl6/Ki4eXrp2KNzWnmb0V9jhO9wzabSAHXjYbYaG4jsIUfG9mLU7C/kAze8/MhocV+oVn8tFuUVbmCgoCJP0ZuAP4vZm9GK4NBHYDPh+r3lRQUFCQA5K6U34T8Ccz+3hvpqdgxgj7jS4GZgNGAvs0lEhjlfyaFDLPA14EzsUFVjYws20SJb8tIeka3J7jPjwk8F08fPV/NZ7pA8AxuFXRycDBZna1pE2A48xsrci0bgD8HN87txrwd2CBkOavm1nUvrkcvJ2U1lyQdI6Z7RfO18WVZx8HlgX2NbObIziT1wEAmFk5ylEOM4AJMffKUY5ylKMvDuB9fAJqaIvjrb5OXzmme1/DgE+F8x3wQcjnwt8jIzlHVM5HNd0bFcPZSUeL33wUPkBYqPpsesg5snI+sbt7MbzAIuF8KeCP4XxT4LZ24u2ktGbMW9WyNRRYNZwvDQyP5ExeB5hZUbMsKKjgaUnfw1fmXgIIYSq706UUV1BQUNAuGI/PED/WfKOmOl5BHsxqZuMAzFd6xgPXyo2vY8OkPiY3xxYwryRZ6Bny0dhKM5ukfmY2BcDMfibpWeBuYO5IzrclfQGYD7CKkuMG+ARKLGYxs5fD+URgiZDm2yWd3v3H+oS3k9LaG/j/9u4v1LKyjOP495mimpSmwH9I2dBIGZHpnXQxFE2IFYlEddGFRBT9U6mrgogJCgq8m5soavLChLSJKSsYhMabLqQcZ1TMyIEEB0xQQ6EL018X7zrTnqOnzqxz3r32cr6fm33Ym/2cZ63Fu9nPXu/7Pm9Kcj9AkpPDurcxenwGWMxJCz4NfAO4dyjiAjwJ/Br41JSJSdIr2M/GX9hvWmIe2pwXquqSDNP4kzw8TN27G9gzMuaPaducA9wGXAA8NSwRGN23akZ+Q1vTdc/aE0luq6ongQMjY36RNr3yJeBa4EtVdRA4BXxhC7n+qap+QmuhcD1wFE7vQjq2OOgVd0659nJFVZ2g/VCyu6rekuSZqtrB+D6ePT4DXDMnramq19Eagj6R5J6q+gzwflqvmh8leWHSBCVpnaraA9xA6y/3b9q0nTuSbKUXlDqoqn3AU0mOr3t+F/DVJN8bEfNm2lS1c/JObK/jr6rLaePqrbRx9Tfg51sZV8PGN5+nbUN/HPhpkheHHR4vSvL3VYk7p1x7qaq3r3vqVFpPyAuAvUkOjYi50WfAm4GvjPkMAIs56bSqup12t3onrSnmecCvgA/RxsqNE6YnSWcYvsh+jDal7CO0OzHP0L6EfjnJ0emy0zJU1T9p/b8eA+4A7lyYxvaq1+P4HVeaG4s5aVBVJ5JcWa3vxxPApcMvRgUcT3LlxClK0mlV9SBw1fA59Ubgd0k+UFWXAYeTbHkbdS1HVf0+yXUj3neMtivgPtpSgY8Df6YVNoeSPLetia6YHsc/xbgae/2H9+4CvkmbtnjR8PQ/gMPA95M8uwoxN/E/R5+DZdvCeL2EtlPqS8C3adPhP0Fb/3xLRvaac82c9F87hqmW59F6/uwCnqZtITt2frQk9fRa2qYMr2dYO5Xk8VrXy0zT+z+tJK4aGTbD5h9HgCPDdb+OtmTgVuDCkXHnotfxb/u46nT9AX5B29X2g3l5W6U7aTtFrkLMnudg23XK9WfAb2nfM/8A3A58lFY0/3B4PGvemZMGVfU12q8kr6H1QbkeOAlcA9yV5DsTpidJZ6iqW4DP0Xps7QV+kORgVV0I/DLJ3kkT1Bmq6kXgXoaGwetck2TniJjHNrpTVFU7k2ypwfGq63H8vcZVj+s/xH00ybvO9rVlxxze2+Uc9NB7vFbV40kuW3jtgSSjikSLOWlBVV0KkOTUsCB1H63PzH3TZiZJL1dV7wHeDTyU5C9T56ONVdVDwA0btZJI8rYRMd+Z5K/bkuAM9Tr+HuOqx/Uf3nuEtpvnK7VV+nCSfasQc4jR5Rz00Gm8Hk/yvuHv7yb51sJrDyZ575hcnWYpLUhyauHvZ4G7JkxHkv6noWfRw1PnoU3Zzza3kjiXCznod/ydxtV++rQSWWyrtLa+ba2t0idXKCbMq53KfrY/18NVdX6S59cVcpcDj46M6Z05SZKkKVXVZ5McnDoPTaPX9e8Rd0659rJq59ViTpIkaULr18/o3NLr+veIO6dce1m18+o0S0mSpM6q6sRGLwEXLzMXLV+v698j7pxy7WVO59ViTpIkqb+LgWtpDagXFfDH5aejJet1/XvEnVOuvczmvFrMSZIk9Xc3cH6SB9a/UFVHl5+OlqzX9e8Rd0659jKb8+qaOUmSJEmaoY223JQkSZIkrTCLOUmSJEmaIYs5SZIWVNXzw+PuqvpXVR2rqkeq6r6qunHq/CRJWuMGKJIkbeyxJFcDVNU7gENVtWMuzW0lSa9u3pmTJGkTkpwEvg7cPHUukiSBxZwkSWfjfuCKqZOQJAks5iRJOhs1dQKSJK2xmJMkafOuBh6ZOglJksBiTpKkTamq3cCtwIFpM5EkqXE3S0mSNranqo4BbwCeAw64k6UkaVVUkqlzkCRJkiSdJadZSpIkSdIMWcxJkiRJ0gxZzEmSJEnSDFnMSZIkSdIMWcxJkiRJ0gxZzEmSJEnSDFnMSZIkSdIMWcxJkiRJ0gz9B0hmTMSF/+XNAAAAAElFTkSuQmCC\n",
      "text/plain": [
       "<Figure size 1080x720 with 1 Axes>"
      ]
     },
     "metadata": {
      "needs_background": "light"
     },
     "output_type": "display_data"
    }
   ],
   "source": [
    "fd3=followers_data.sort_values(by=['Follower_count'], ascending=False)\n",
    "fd3.plot(kind='bar',figsize=(15, 10))"
   ]
  },
  {
   "cell_type": "code",
   "execution_count": 28,
   "metadata": {},
   "outputs": [
    {
     "data": {
      "text/plain": [
       "<matplotlib.axes._subplots.AxesSubplot at 0x1d8225ef1c0>"
      ]
     },
     "execution_count": 28,
     "metadata": {},
     "output_type": "execute_result"
    },
    {
     "data": {
      "image/png": "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\n",
      "text/plain": [
       "<Figure size 1080x720 with 1 Axes>"
      ]
     },
     "metadata": {
      "needs_background": "light"
     },
     "output_type": "display_data"
    }
   ],
   "source": [
    "fd3=followers_data.sort_values(by=['Follower_count'], ascending=False).head(10)\n",
    "fd3.plot(kind='bar',figsize=(15, 10))"
   ]
  },
  {
   "cell_type": "markdown",
   "metadata": {},
   "source": [
    "## User count that we reached with retweeters"
   ]
  },
  {
   "cell_type": "code",
   "execution_count": 29,
   "metadata": {},
   "outputs": [],
   "source": [
    "retweeters = api.lookup_users(status_retweeters_id)"
   ]
  },
  {
   "cell_type": "code",
   "execution_count": 30,
   "metadata": {},
   "outputs": [],
   "source": [
    "follower_counts_of_retweeters=[]\n",
    "friends_counts_of_retweeters=[]\n",
    "ids_of_retweeters=[]  \n",
    "\n",
    "for retweeters1 in retweeters:\n",
    "    follower_counts_of_retweeters.append(retweeters1.followers_count)\n",
    "    friends_counts_of_retweeters.append(retweeters1.friends_count)\n",
    "    ids_of_retweeters.append(retweeters1.id)"
   ]
  },
  {
   "cell_type": "code",
   "execution_count": 31,
   "metadata": {},
   "outputs": [
    {
     "data": {
      "text/plain": [
       "[1, 96, 10]"
      ]
     },
     "execution_count": 31,
     "metadata": {},
     "output_type": "execute_result"
    }
   ],
   "source": [
    "follower_counts_of_retweeters"
   ]
  },
  {
   "cell_type": "code",
   "execution_count": 32,
   "metadata": {},
   "outputs": [
    {
     "data": {
      "text/plain": [
       "[10, 70, 120]"
      ]
     },
     "execution_count": 32,
     "metadata": {},
     "output_type": "execute_result"
    }
   ],
   "source": [
    "friends_counts_of_retweeters"
   ]
  },
  {
   "cell_type": "code",
   "execution_count": 33,
   "metadata": {},
   "outputs": [
    {
     "data": {
      "text/plain": [
       "[1328275529334710272, 439501816, 1196068889639165958]"
      ]
     },
     "execution_count": 33,
     "metadata": {},
     "output_type": "execute_result"
    }
   ],
   "source": [
    "ids_of_retweeters"
   ]
  },
  {
   "cell_type": "code",
   "execution_count": 34,
   "metadata": {},
   "outputs": [
    {
     "data": {
      "text/html": [
       "<div>\n",
       "<style scoped>\n",
       "    .dataframe tbody tr th:only-of-type {\n",
       "        vertical-align: middle;\n",
       "    }\n",
       "\n",
       "    .dataframe tbody tr th {\n",
       "        vertical-align: top;\n",
       "    }\n",
       "\n",
       "    .dataframe thead th {\n",
       "        text-align: right;\n",
       "    }\n",
       "</style>\n",
       "<table border=\"1\" class=\"dataframe\">\n",
       "  <thead>\n",
       "    <tr style=\"text-align: right;\">\n",
       "      <th></th>\n",
       "      <th>follower_counts</th>\n",
       "      <th>friends_counts</th>\n",
       "    </tr>\n",
       "    <tr>\n",
       "      <th>ID</th>\n",
       "      <th></th>\n",
       "      <th></th>\n",
       "    </tr>\n",
       "  </thead>\n",
       "  <tbody>\n",
       "    <tr>\n",
       "      <th>1328275529334710272</th>\n",
       "      <td>1</td>\n",
       "      <td>10</td>\n",
       "    </tr>\n",
       "    <tr>\n",
       "      <th>439501816</th>\n",
       "      <td>96</td>\n",
       "      <td>70</td>\n",
       "    </tr>\n",
       "    <tr>\n",
       "      <th>1196068889639165958</th>\n",
       "      <td>10</td>\n",
       "      <td>120</td>\n",
       "    </tr>\n",
       "  </tbody>\n",
       "</table>\n",
       "</div>"
      ],
      "text/plain": [
       "                     follower_counts  friends_counts\n",
       "ID                                                  \n",
       "1328275529334710272                1              10\n",
       "439501816                         96              70\n",
       "1196068889639165958               10             120"
      ]
     },
     "execution_count": 34,
     "metadata": {},
     "output_type": "execute_result"
    }
   ],
   "source": [
    "retweeters_ffr  = [\"ID\",\"follower_counts\",\"friends_counts\"]\n",
    "retweeters_ffc = [ids_of_retweeters,follower_counts_of_retweeters,friends_counts_of_retweeters]\n",
    "\n",
    "retweeters_ff = pd.DataFrame(retweeters_ffc,retweeters_ffr)\n",
    "retweeters_ff  =pd.DataFrame.transpose(retweeters_ff )\n",
    "retweeters_ff =retweeters_ff.set_index(\"ID\")\n",
    "retweeters_ff"
   ]
  },
  {
   "cell_type": "code",
   "execution_count": 38,
   "metadata": {},
   "outputs": [
    {
     "data": {
      "text/plain": [
       "<matplotlib.axes._subplots.AxesSubplot at 0x1d8227c6640>"
      ]
     },
     "execution_count": 38,
     "metadata": {},
     "output_type": "execute_result"
    },
    {
     "data": {
      "image/png": "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\n",
      "text/plain": [
       "<Figure size 576x576 with 1 Axes>"
      ]
     },
     "metadata": {
      "needs_background": "light"
     },
     "output_type": "display_data"
    }
   ],
   "source": [
    "retweeters_ff.plot(kind='bar',figsize=(8, 8))"
   ]
  },
  {
   "cell_type": "code",
   "execution_count": 39,
   "metadata": {},
   "outputs": [],
   "source": [
    "overall_retweeters_reach = sum(follower_counts_of_retweeters)+my_followers_count"
   ]
  },
  {
   "cell_type": "code",
   "execution_count": 40,
   "metadata": {},
   "outputs": [
    {
     "data": {
      "text/plain": [
       "146"
      ]
     },
     "execution_count": 40,
     "metadata": {},
     "output_type": "execute_result"
    }
   ],
   "source": [
    "overall_retweeters_reach"
   ]
  },
  {
   "cell_type": "code",
   "execution_count": 41,
   "metadata": {},
   "outputs": [],
   "source": [
    "overallcl=['Totalreach','MyFollovers']\n",
    "overallrw=[overall_retweeters_reach,my_followers_count]\n",
    "overall = pd.DataFrame(overallrw,overallcl)\n",
    "overall  =pd.DataFrame.transpose(overall )\n",
    "overall.index.name='Users'\n"
   ]
  },
  {
   "cell_type": "code",
   "execution_count": 42,
   "metadata": {},
   "outputs": [
    {
     "data": {
      "text/html": [
       "<div>\n",
       "<style scoped>\n",
       "    .dataframe tbody tr th:only-of-type {\n",
       "        vertical-align: middle;\n",
       "    }\n",
       "\n",
       "    .dataframe tbody tr th {\n",
       "        vertical-align: top;\n",
       "    }\n",
       "\n",
       "    .dataframe thead th {\n",
       "        text-align: right;\n",
       "    }\n",
       "</style>\n",
       "<table border=\"1\" class=\"dataframe\">\n",
       "  <thead>\n",
       "    <tr style=\"text-align: right;\">\n",
       "      <th></th>\n",
       "      <th>Totalreach</th>\n",
       "      <th>MyFollovers</th>\n",
       "    </tr>\n",
       "    <tr>\n",
       "      <th>Users</th>\n",
       "      <th></th>\n",
       "      <th></th>\n",
       "    </tr>\n",
       "  </thead>\n",
       "  <tbody>\n",
       "    <tr>\n",
       "      <th>0</th>\n",
       "      <td>146</td>\n",
       "      <td>39</td>\n",
       "    </tr>\n",
       "  </tbody>\n",
       "</table>\n",
       "</div>"
      ],
      "text/plain": [
       "       Totalreach  MyFollovers\n",
       "Users                         \n",
       "0             146           39"
      ]
     },
     "execution_count": 42,
     "metadata": {},
     "output_type": "execute_result"
    }
   ],
   "source": [
    "overall"
   ]
  },
  {
   "cell_type": "code",
   "execution_count": 43,
   "metadata": {},
   "outputs": [
    {
     "data": {
      "text/plain": [
       "<matplotlib.axes._subplots.AxesSubplot at 0x1d822817ee0>"
      ]
     },
     "execution_count": 43,
     "metadata": {},
     "output_type": "execute_result"
    },
    {
     "data": {
      "image/png": "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\n",
      "text/plain": [
       "<Figure size 432x288 with 1 Axes>"
      ]
     },
     "metadata": {
      "needs_background": "light"
     },
     "output_type": "display_data"
    }
   ],
   "source": [
    "overall.plot(kind='bar')"
   ]
  },
  {
   "cell_type": "code",
   "execution_count": 44,
   "metadata": {},
   "outputs": [],
   "source": [
    "rt_reach =sum(follower_counts_of_retweeters)"
   ]
  },
  {
   "cell_type": "code",
   "execution_count": 45,
   "metadata": {},
   "outputs": [
    {
     "data": {
      "image/png": "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\n",
      "text/plain": [
       "<Figure size 432x288 with 1 Axes>"
      ]
     },
     "metadata": {},
     "output_type": "display_data"
    }
   ],
   "source": [
    "labels = 'Retweeters Followers', 'MyFollovers', \n",
    "sizes = [rt_reach, my_followers_count, ]\n",
    "explode = (0, 0.1 )\n",
    "\n",
    "fig1, ax1 = plt.subplots()\n",
    "ax1.pie(sizes, explode=explode, labels=labels, autopct=lambda p : '{:.2f}%  ({:,.0f})'.format(p,p * sum(sizes)/100) , shadow=True, startangle=90)\n",
    "ax1.axis('equal') \n",
    "plt.show()"
   ]
  },
  {
   "cell_type": "code",
   "execution_count": 46,
   "metadata": {},
   "outputs": [],
   "source": [
    "f1=len(retweeters_following)\n",
    "f2=len(retweeters_not_following)"
   ]
  },
  {
   "cell_type": "code",
   "execution_count": 47,
   "metadata": {},
   "outputs": [
    {
     "data": {
      "image/png": "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\n",
      "text/plain": [
       "<Figure size 432x288 with 1 Axes>"
      ]
     },
     "metadata": {},
     "output_type": "display_data"
    }
   ],
   "source": [
    "labels = 'Retweeters following', 'Retweeters not following', \n",
    "sizes = [f1, f2, ]\n",
    "explode = (0, 0.1 ) \n",
    "\n",
    "fig1, ax1 = plt.subplots()\n",
    "ax1.pie(sizes, explode=explode, labels=labels, autopct=lambda p : '{:.2f}%  ({:,.0f})'.format(p,p * sum(sizes)/100), shadow=True, startangle=90)\n",
    "ax1.axis('equal') \n",
    "\n",
    "plt.show()"
   ]
  },
  {
   "cell_type": "code",
   "execution_count": null,
   "metadata": {},
   "outputs": [],
   "source": []
  }
 ],
 "metadata": {
  "kernelspec": {
   "display_name": "Python 3",
   "language": "python",
   "name": "python3"
  },
  "language_info": {
   "codemirror_mode": {
    "name": "ipython",
    "version": 3
   },
   "file_extension": ".py",
   "mimetype": "text/x-python",
   "name": "python",
   "nbconvert_exporter": "python",
   "pygments_lexer": "ipython3",
   "version": "3.8.3"
  }
 },
 "nbformat": 4,
 "nbformat_minor": 4
}
